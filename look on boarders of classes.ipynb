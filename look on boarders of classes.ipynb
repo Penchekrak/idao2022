{
 "cells": [
  {
   "cell_type": "code",
   "execution_count": 14,
   "id": "0d187b75",
   "metadata": {},
   "outputs": [],
   "source": [
    "import pandas as pd\n",
    "import numpy as np\n",
    "import matplotlib.pyplot as plt\n",
    "\n",
    "import yaml\n",
    "import json\n",
    "\n",
    "import tensorflow as tf\n",
    "\n",
    "from pathlib import Path\n",
    "from pymatgen.core import Structure\n",
    "from sklearn.model_selection import train_test_split\n",
    "from megnet.models import MEGNetModel\n",
    "from megnet.data.crystal import CrystalGraph\n",
    "\n",
    "import pymatgen\n",
    "from collections import defaultdict\n",
    "from tqdm.notebook import tqdm\n",
    "\n",
    "from functions.prepare_data_and_sub import energy_within_threshold"
   ]
  },
  {
   "cell_type": "code",
   "execution_count": 2,
   "id": "b77e780c",
   "metadata": {},
   "outputs": [],
   "source": [
    "def read_pymatgen_dict(file):\n",
    "    with open(file, \"r\") as f:\n",
    "        d = json.load(f)\n",
    "    return Structure.from_dict(d)\n",
    "\n",
    "\n",
    "def prepare_dataset(dataset_path, train=True):\n",
    "    dataset_path = Path(dataset_path)\n",
    "    struct = {\n",
    "        item.name.strip(\".json\"): read_pymatgen_dict(item)\n",
    "        for item in (dataset_path / \"structures\").iterdir()\n",
    "    }\n",
    "\n",
    "    data = pd.DataFrame(columns=[\"structures\"], index=struct.keys())\n",
    "    data = data.assign(structures=struct.values())\n",
    "    if train:\n",
    "        targets = pd.read_csv(dataset_path / \"targets.csv\", index_col=0)\n",
    "        data = data.assign(targets=targets)\n",
    "\n",
    "    return data\n",
    "\n",
    "def decompose(structure):\n",
    "    result = defaultdict(int)\n",
    "    for site in structure.sites:\n",
    "        result[site.species.formula] += 1\n",
    "    return result"
   ]
  },
  {
   "cell_type": "code",
   "execution_count": 3,
   "id": "7e0a5146",
   "metadata": {},
   "outputs": [
    {
     "data": {
      "text/html": [
       "<div>\n",
       "<style scoped>\n",
       "    .dataframe tbody tr th:only-of-type {\n",
       "        vertical-align: middle;\n",
       "    }\n",
       "\n",
       "    .dataframe tbody tr th {\n",
       "        vertical-align: top;\n",
       "    }\n",
       "\n",
       "    .dataframe thead th {\n",
       "        text-align: right;\n",
       "    }\n",
       "</style>\n",
       "<table border=\"1\" class=\"dataframe\">\n",
       "  <thead>\n",
       "    <tr style=\"text-align: right;\">\n",
       "      <th></th>\n",
       "      <th>structures</th>\n",
       "      <th>targets</th>\n",
       "      <th>decomposition</th>\n",
       "    </tr>\n",
       "  </thead>\n",
       "  <tbody>\n",
       "    <tr>\n",
       "      <th>6142031bee0a3fd43fb47e23</th>\n",
       "      <td>[[1.27612629e-07 1.84192955e+00 3.71975100e+00...</td>\n",
       "      <td>0.2754</td>\n",
       "      <td>{'Mo1': 63, 'Se1': 2, 'S1': 126}</td>\n",
       "    </tr>\n",
       "    <tr>\n",
       "      <th>6141d46031cf3ef3d4a9eee8</th>\n",
       "      <td>[[1.27612629e-07 1.84192955e+00 3.71975100e+00...</td>\n",
       "      <td>0.2839</td>\n",
       "      <td>{'Mo1': 63, 'Se1': 1, 'S1': 126}</td>\n",
       "    </tr>\n",
       "    <tr>\n",
       "      <th>614211354e27a1844a5f05b4</th>\n",
       "      <td>[[1.27612629e-07 1.84192955e+00 3.71975100e+00...</td>\n",
       "      <td>1.1450</td>\n",
       "      <td>{'Mo1': 63, 'W1': 1, 'Se1': 1, 'S1': 126}</td>\n",
       "    </tr>\n",
       "    <tr>\n",
       "      <th>614346254e27a1844a5f0a14</th>\n",
       "      <td>[[1.27612629e-07 1.84192955e+00 3.71975100e+00...</td>\n",
       "      <td>1.1405</td>\n",
       "      <td>{'Mo1': 63, 'W1': 1, 'Se1': 1, 'S1': 126}</td>\n",
       "    </tr>\n",
       "    <tr>\n",
       "      <th>6141e2eb9cbada84a8676ab7</th>\n",
       "      <td>[[1.27612629e-07 1.84192955e+00 3.71975100e+00...</td>\n",
       "      <td>1.8092</td>\n",
       "      <td>{'Mo1': 63, 'W1': 1, 'Se1': 2, 'S1': 126}</td>\n",
       "    </tr>\n",
       "  </tbody>\n",
       "</table>\n",
       "</div>"
      ],
      "text/plain": [
       "                                                                 structures  \\\n",
       "6142031bee0a3fd43fb47e23  [[1.27612629e-07 1.84192955e+00 3.71975100e+00...   \n",
       "6141d46031cf3ef3d4a9eee8  [[1.27612629e-07 1.84192955e+00 3.71975100e+00...   \n",
       "614211354e27a1844a5f05b4  [[1.27612629e-07 1.84192955e+00 3.71975100e+00...   \n",
       "614346254e27a1844a5f0a14  [[1.27612629e-07 1.84192955e+00 3.71975100e+00...   \n",
       "6141e2eb9cbada84a8676ab7  [[1.27612629e-07 1.84192955e+00 3.71975100e+00...   \n",
       "\n",
       "                          targets                              decomposition  \n",
       "6142031bee0a3fd43fb47e23   0.2754           {'Mo1': 63, 'Se1': 2, 'S1': 126}  \n",
       "6141d46031cf3ef3d4a9eee8   0.2839           {'Mo1': 63, 'Se1': 1, 'S1': 126}  \n",
       "614211354e27a1844a5f05b4   1.1450  {'Mo1': 63, 'W1': 1, 'Se1': 1, 'S1': 126}  \n",
       "614346254e27a1844a5f0a14   1.1405  {'Mo1': 63, 'W1': 1, 'Se1': 1, 'S1': 126}  \n",
       "6141e2eb9cbada84a8676ab7   1.8092  {'Mo1': 63, 'W1': 1, 'Se1': 2, 'S1': 126}  "
      ]
     },
     "execution_count": 3,
     "metadata": {},
     "output_type": "execute_result"
    }
   ],
   "source": [
    "train = prepare_dataset('data/dichalcogenides_public/')\n",
    "train['decomposition'] = train.structures.apply(decompose)\n",
    "mask_list_train = [\n",
    "            train['decomposition'] == defaultdict(int, {'Mo1': 63, 'W1': 1, 'Se1': 2, 'S1': 126}), #done\n",
    "            train['decomposition'] == defaultdict(int, {'Mo1': 63, 'W1': 1, 'Se1': 1, 'S1': 126}), #done\n",
    "            train['decomposition'] == defaultdict(int, {'Mo1': 63, 'Se1': 1, 'S1': 126}),\n",
    "            train['decomposition'] == defaultdict(int, {'Mo1': 63, 'W1': 1, 'S1': 126}),\n",
    "            train['decomposition'] == defaultdict(int, {'Mo1': 63, 'Se1': 2, 'S1': 126}),\n",
    "            train['decomposition'] == defaultdict(int, {'Mo1': 63, 'S1': 126}),\n",
    "            \n",
    "    ]\n",
    "\n",
    "train.head()"
   ]
  },
  {
   "cell_type": "markdown",
   "id": "f3f6df47",
   "metadata": {},
   "source": [
    "# Class3\n"
   ]
  },
  {
   "cell_type": "code",
   "execution_count": 5,
   "id": "12d0bd04",
   "metadata": {},
   "outputs": [
    {
     "data": {
      "text/plain": [
       "<matplotlib.collections.LineCollection at 0x7ff13eb199d0>"
      ]
     },
     "execution_count": 5,
     "metadata": {},
     "output_type": "execute_result"
    },
    {
     "data": {
      "image/png": "[encoded data removed]",
      "text/plain": [
       "<Figure size 792x792 with 1 Axes>"
      ]
     },
     "metadata": {
      "needs_background": "light"
     },
     "output_type": "display_data"
    }
   ],
   "source": [
    "sample = train[mask_list_train[3]]\n",
    "\n",
    "fig = plt.figure(figsize=(11,11))\n",
    "plt.scatter(np.arange(len(sample)), sample.targets, s=4)\n",
    "\n",
    "x = 1.12\n",
    "plt.hlines(x, 0, 380, color='orange')\n",
    "plt.hlines(x-0.04, 0, 380, color='orange')\n",
    "\n",
    "x = 1.04\n",
    "plt.hlines(x, 0, 380, color='orange')\n",
    "plt.hlines(x-0.04, 0, 380, color='orange')\n",
    "\n",
    "x = 0.97\n",
    "plt.hlines(x, 0, 380, color='y')\n",
    "plt.hlines(x-0.04, 0, 380, color='y')\n",
    "\n",
    "x = 0.675\n",
    "plt.hlines(x, 0, 380, color='green')\n",
    "plt.hlines(x-0.04, 0, 380, color='green')\n"
   ]
  },
  {
   "cell_type": "code",
   "execution_count": 7,
   "id": "1ba75671",
   "metadata": {},
   "outputs": [
    {
     "data": {
      "text/plain": [
       "<matplotlib.collections.LineCollection at 0x7ff13eb25730>"
      ]
     },
     "execution_count": 7,
     "metadata": {},
     "output_type": "execute_result"
    },
    {
     "data": {
      "image/png": "[encoded data removed]",
      "text/plain": [
       "<Figure size 432x288 with 1 Axes>"
      ]
     },
     "metadata": {
      "needs_background": "light"
     },
     "output_type": "display_data"
    }
   ],
   "source": [
    "group1 = sample[(sample.targets > 1.07)].targets\n",
    "plt.scatter(np.arange(len(group1)), group1)\n",
    "\n",
    "x = 1.12\n",
    "plt.hlines(x, 0, 300, color='orange')\n",
    "plt.hlines(x-0.04, 0, 300, color='orange')"
   ]
  },
  {
   "cell_type": "code",
   "execution_count": 89,
   "id": "b5798854",
   "metadata": {},
   "outputs": [
    {
     "name": "stdout",
     "output_type": "stream",
     "text": [
      "1.1013304794520553 1.10425\n"
     ]
    },
    {
     "data": {
      "text/plain": [
       "0.9657534246575342"
      ]
     },
     "execution_count": 89,
     "metadata": {},
     "output_type": "execute_result"
    }
   ],
   "source": [
    "print(group1.mean(), group1.median())\n",
    "energy_within_threshold(1.10*np.ones(len(group1)), group1)"
   ]
  },
  {
   "cell_type": "code",
   "execution_count": 8,
   "id": "179c268f",
   "metadata": {},
   "outputs": [
    {
     "data": {
      "text/plain": [
       "<matplotlib.collections.LineCollection at 0x7ff13e9a29a0>"
      ]
     },
     "execution_count": 8,
     "metadata": {},
     "output_type": "execute_result"
    },
    {
     "data": {
      "image/png": "[encoded data removed]",
      "text/plain": [
       "<Figure size 432x288 with 1 Axes>"
      ]
     },
     "metadata": {
      "needs_background": "light"
     },
     "output_type": "display_data"
    }
   ],
   "source": [
    "group2 = sample[(sample.targets < 1.05) & (sample.targets > 0.99)].targets\n",
    "plt.scatter(np.arange(len(group2)), group2)\n",
    "\n",
    "x = 1.04\n",
    "plt.hlines(x, 0, 38, color='orange')\n",
    "plt.hlines(x-0.04, 0, 38, color='orange')\n"
   ]
  },
  {
   "cell_type": "code",
   "execution_count": 99,
   "id": "73ccf454",
   "metadata": {},
   "outputs": [
    {
     "name": "stdout",
     "output_type": "stream",
     "text": [
      "1.0208472222222222 1.0264\n"
     ]
    },
    {
     "data": {
      "text/plain": [
       "0.9166666666666666"
      ]
     },
     "execution_count": 99,
     "metadata": {},
     "output_type": "execute_result"
    }
   ],
   "source": [
    "print(group2.mean(), group2.median())\n",
    "energy_within_threshold(1.02*np.ones(len(group2)), group2)"
   ]
  },
  {
   "cell_type": "code",
   "execution_count": 10,
   "id": "de7cc643",
   "metadata": {},
   "outputs": [
    {
     "data": {
      "text/plain": [
       "<matplotlib.collections.LineCollection at 0x7ff13e910d00>"
      ]
     },
     "execution_count": 10,
     "metadata": {},
     "output_type": "execute_result"
    },
    {
     "data": {
      "image/png": "[encoded data removed]",
      "text/plain": [
       "<Figure size 432x288 with 1 Axes>"
      ]
     },
     "metadata": {
      "needs_background": "light"
     },
     "output_type": "display_data"
    }
   ],
   "source": [
    "group3 = sample[(sample.targets < 0.975) & (sample.targets > 0.8)].targets\n",
    "plt.scatter(np.arange(len(group3)), group3)\n",
    "\n",
    "x = 0.97\n",
    "plt.hlines(x, 0, 30, color='y')\n",
    "plt.hlines(x-0.04, 0, 30, color='y')\n"
   ]
  },
  {
   "cell_type": "code",
   "execution_count": 132,
   "id": "1fb6f8e3",
   "metadata": {},
   "outputs": [
    {
     "name": "stdout",
     "output_type": "stream",
     "text": [
      "0.952109677419355 0.9542\n"
     ]
    },
    {
     "data": {
      "text/plain": [
       "1.0"
      ]
     },
     "execution_count": 132,
     "metadata": {},
     "output_type": "execute_result"
    }
   ],
   "source": [
    "print(group3.mean(), group3.median())\n",
    "energy_within_threshold(0.95*np.ones(len(group3)), group3)"
   ]
  },
  {
   "cell_type": "code",
   "execution_count": 15,
   "id": "e60f14e7",
   "metadata": {},
   "outputs": [
    {
     "data": {
      "text/plain": [
       "(0.9657534246575342, 0.9166666666666666, 1.0)"
      ]
     },
     "execution_count": 15,
     "metadata": {},
     "output_type": "execute_result"
    }
   ],
   "source": [
    "energy_within_threshold(1.10*np.ones(len(group1)), group1), energy_within_threshold(1.02*np.ones(len(group2)), group2),energy_within_threshold(0.95*np.ones(len(group3)), group3) "
   ]
  },
  {
   "cell_type": "markdown",
   "id": "8cf12008",
   "metadata": {},
   "source": [
    "## Class 4"
   ]
  },
  {
   "cell_type": "code",
   "execution_count": 16,
   "id": "dab69042",
   "metadata": {},
   "outputs": [
    {
     "data": {
      "text/plain": [
       "<matplotlib.collections.LineCollection at 0x7ff13e7cad90>"
      ]
     },
     "execution_count": 16,
     "metadata": {},
     "output_type": "execute_result"
    },
    {
     "data": {
      "image/png": "[encoded data removed]",
      "text/plain": [
       "<Figure size 792x792 with 1 Axes>"
      ]
     },
     "metadata": {
      "needs_background": "light"
     },
     "output_type": "display_data"
    }
   ],
   "source": [
    "sample = train[mask_list_train[4]]\n",
    "\n",
    "fig = plt.figure(figsize=(11,11))\n",
    "\n",
    "plt.scatter(np.arange(len(sample)), sample.targets, s=2)\n",
    "\n",
    "x = 0.44\n",
    "plt.hlines(x, 0, 380, color='y')\n",
    "plt.hlines(x-0.04, 0, 380, color='y')\n",
    "\n",
    "# x = 0.393\n",
    "# plt.hlines(x, 0, 380, color='orange')\n",
    "# plt.hlines(x-0.025, 0, 380, color='orange')\n",
    "\n",
    "x = 0.365\n",
    "plt.hlines(x, 0, 380, color='y')\n",
    "plt.hlines(x-0.02, 0, 380, color='y')\n",
    "\n",
    "x = 0.29\n",
    "plt.hlines(x, 0, 380, color='green')\n",
    "plt.hlines(x-0.04, 0, 380, color='green')\n"
   ]
  },
  {
   "cell_type": "code",
   "execution_count": 18,
   "id": "6c52d415",
   "metadata": {},
   "outputs": [
    {
     "data": {
      "text/plain": [
       "<matplotlib.collections.LineCollection at 0x7ff13e81de80>"
      ]
     },
     "execution_count": 18,
     "metadata": {},
     "output_type": "execute_result"
    },
    {
     "data": {
      "image/png": "[encoded data removed]",
      "text/plain": [
       "<Figure size 432x288 with 1 Axes>"
      ]
     },
     "metadata": {
      "needs_background": "light"
     },
     "output_type": "display_data"
    }
   ],
   "source": [
    "group1 = sample[(sample.targets > 0.38)].targets\n",
    "plt.scatter(np.arange(len(group1)), group1)\n",
    "\n",
    "x = 0.44\n",
    "plt.hlines(x, 0, 100, color='y')\n",
    "plt.hlines(x-0.04, 0, 100, color='y')"
   ]
  },
  {
   "cell_type": "code",
   "execution_count": 22,
   "id": "a4ca5090",
   "metadata": {},
   "outputs": [
    {
     "data": {
      "text/plain": [
       "<matplotlib.collections.LineCollection at 0x7ff13e5bc610>"
      ]
     },
     "execution_count": 22,
     "metadata": {},
     "output_type": "execute_result"
    },
    {
     "data": {
      "image/png": "[encoded data removed]",
      "text/plain": [
       "<Figure size 432x288 with 1 Axes>"
      ]
     },
     "metadata": {
      "needs_background": "light"
     },
     "output_type": "display_data"
    }
   ],
   "source": [
    "group2 = sample[(sample.targets < 0.375) & (sample.targets > 0.33)].targets\n",
    "plt.scatter(np.arange(len(group2)), group2)\n",
    "\n",
    "x = 0.365\n",
    "plt.hlines(x, 0, 250, color='y')\n",
    "plt.hlines(x-0.02, 0, 250, color='y')"
   ]
  },
  {
   "cell_type": "code",
   "execution_count": 25,
   "id": "131f614b",
   "metadata": {},
   "outputs": [
    {
     "data": {
      "text/plain": [
       "<matplotlib.collections.LineCollection at 0x7ff13e5278b0>"
      ]
     },
     "execution_count": 25,
     "metadata": {},
     "output_type": "execute_result"
    },
    {
     "data": {
      "image/png": "[encoded data removed]",
      "text/plain": [
       "<Figure size 432x288 with 1 Axes>"
      ]
     },
     "metadata": {
      "needs_background": "light"
     },
     "output_type": "display_data"
    }
   ],
   "source": [
    "group3 = sample[(sample.targets < 0.3) & (sample.targets > 0.25)].targets\n",
    "plt.scatter(np.arange(len(group3)), group3)\n",
    "\n",
    "x = 0.29\n",
    "plt.hlines(x, 0, 30, color='green')\n",
    "plt.hlines(x-0.04, 0, 30, color='green')\n"
   ]
  },
  {
   "cell_type": "code",
   "execution_count": 26,
   "id": "283d72e0",
   "metadata": {},
   "outputs": [
    {
     "data": {
      "text/plain": [
       "(0.7941176470588235, 0.9829787234042553, 0.96875)"
      ]
     },
     "execution_count": 26,
     "metadata": {},
     "output_type": "execute_result"
    }
   ],
   "source": [
    "energy_within_threshold(0.42*np.ones(len(group1)), group1), energy_within_threshold(0.345*np.ones(len(group2)), group2),energy_within_threshold(0.27*np.ones(len(group3)), group3) "
   ]
  },
  {
   "cell_type": "markdown",
   "id": "06983821",
   "metadata": {},
   "source": [
    "## Сlass5"
   ]
  },
  {
   "cell_type": "code",
   "execution_count": 32,
   "id": "e9c35244",
   "metadata": {},
   "outputs": [
    {
     "data": {
      "text/plain": [
       "<matplotlib.collections.LineCollection at 0x7ff13e173fd0>"
      ]
     },
     "execution_count": 32,
     "metadata": {},
     "output_type": "execute_result"
    },
    {
     "data": {
      "image/png": "[encoded data removed]",
      "text/plain": [
       "<Figure size 792x792 with 1 Axes>"
      ]
     },
     "metadata": {
      "needs_background": "light"
     },
     "output_type": "display_data"
    }
   ],
   "source": [
    "sample = train[mask_list_train[5]].copy()\n",
    "fig = plt.figure(figsize=(11,11))\n",
    "\n",
    "plt.scatter(np.arange(len(sample)), sample.targets, s=2)\n",
    "\n",
    "x = 0.43\n",
    "plt.hlines(x, 0, 380, color='red')\n",
    "plt.hlines(x-0.04, 0, 380, color='red')\n",
    "\n",
    "x = 0.375\n",
    "plt.hlines(x, 0, 380, color='y')\n",
    "plt.hlines(x-0.04, 0, 380, color='y')\n",
    "\n",
    "x = 0.31\n",
    "plt.hlines(x, 0, 380, color='green')\n",
    "plt.hlines(x-0.04, 0, 380, color='green')"
   ]
  },
  {
   "cell_type": "code",
   "execution_count": 49,
   "id": "60847b45",
   "metadata": {},
   "outputs": [
    {
     "data": {
      "text/plain": [
       "<matplotlib.collections.LineCollection at 0x7ff13df65160>"
      ]
     },
     "execution_count": 49,
     "metadata": {},
     "output_type": "execute_result"
    },
    {
     "data": {
      "image/png": "[encoded data removed]",
      "text/plain": [
       "<Figure size 432x288 with 1 Axes>"
      ]
     },
     "metadata": {
      "needs_background": "light"
     },
     "output_type": "display_data"
    }
   ],
   "source": [
    "group1 = sample[(sample.targets > 0.37)].targets\n",
    "plt.scatter(np.arange(len(group1)), group1)\n",
    "\n",
    "x = 0.43\n",
    "plt.hlines(x, 0, 230, color='y')\n",
    "plt.hlines(x-0.04, 0, 230, color='y')"
   ]
  },
  {
   "cell_type": "code",
   "execution_count": 54,
   "id": "3ab0cbf9",
   "metadata": {},
   "outputs": [
    {
     "name": "stdout",
     "output_type": "stream",
     "text": [
      "0.4095924107142857 0.41114999999999996\n"
     ]
    },
    {
     "data": {
      "text/plain": [
       "0.8392857142857143"
      ]
     },
     "execution_count": 54,
     "metadata": {},
     "output_type": "execute_result"
    }
   ],
   "source": [
    "print(group1.mean(), group1.median())\n",
    "energy_within_threshold(0.409*np.ones(len(group1)), group1)"
   ]
  },
  {
   "cell_type": "code",
   "execution_count": 55,
   "id": "462091f0",
   "metadata": {},
   "outputs": [
    {
     "data": {
      "text/plain": [
       "<matplotlib.collections.LineCollection at 0x7ff13df88070>"
      ]
     },
     "execution_count": 55,
     "metadata": {},
     "output_type": "execute_result"
    },
    {
     "data": {
      "image/png": "[encoded data removed]",
      "text/plain": [
       "<Figure size 432x288 with 1 Axes>"
      ]
     },
     "metadata": {
      "needs_background": "light"
     },
     "output_type": "display_data"
    }
   ],
   "source": [
    "group2 = sample[(sample.targets < 0.38) & (sample.targets > 0.32)].targets\n",
    "plt.scatter(np.arange(len(group2)), group2)\n",
    "\n",
    "x = 0.375\n",
    "plt.hlines(x, 0, 100, color='y')\n",
    "plt.hlines(x-0.04, 0, 100, color='y')\n"
   ]
  },
  {
   "cell_type": "code",
   "execution_count": 59,
   "id": "2976fa4f",
   "metadata": {},
   "outputs": [
    {
     "name": "stdout",
     "output_type": "stream",
     "text": [
      "0.3545425287356322 0.3535\n"
     ]
    },
    {
     "data": {
      "text/plain": [
       "0.9310344827586207"
      ]
     },
     "execution_count": 59,
     "metadata": {},
     "output_type": "execute_result"
    }
   ],
   "source": [
    "print(group2.mean(), group2.median())\n",
    "energy_within_threshold(0.355*np.ones(len(group2)), group2)"
   ]
  },
  {
   "cell_type": "code",
   "execution_count": 67,
   "id": "733f3553",
   "metadata": {},
   "outputs": [
    {
     "data": {
      "text/plain": [
       "<matplotlib.collections.LineCollection at 0x7ff13de1f460>"
      ]
     },
     "execution_count": 67,
     "metadata": {},
     "output_type": "execute_result"
    },
    {
     "data": {
      "image/png": "[encoded data removed]",
      "text/plain": [
       "<Figure size 432x288 with 1 Axes>"
      ]
     },
     "metadata": {
      "needs_background": "light"
     },
     "output_type": "display_data"
    }
   ],
   "source": [
    "group3 = sample[(sample.targets < 0.32)].targets\n",
    "plt.scatter(np.arange(len(group3)), group3)\n",
    "\n",
    "x = 0.305\n",
    "plt.hlines(x, 0, 60, color='y')\n",
    "plt.hlines(x-0.04, 0, 60, color='y')\n"
   ]
  },
  {
   "cell_type": "code",
   "execution_count": 69,
   "id": "ea3b9aba",
   "metadata": {},
   "outputs": [
    {
     "name": "stdout",
     "output_type": "stream",
     "text": [
      "0.2864583333333333 0.29564999999999997\n"
     ]
    },
    {
     "data": {
      "text/plain": [
       "0.8166666666666667"
      ]
     },
     "execution_count": 69,
     "metadata": {},
     "output_type": "execute_result"
    }
   ],
   "source": [
    "print(group3.mean(), group3.median())\n",
    "energy_within_threshold(0.295*np.ones(len(group3)), group3)"
   ]
  },
  {
   "cell_type": "code",
   "execution_count": 70,
   "id": "b111a237",
   "metadata": {},
   "outputs": [
    {
     "data": {
      "text/plain": [
       "(0.8392857142857143, 0.9310344827586207, 0.8166666666666667)"
      ]
     },
     "execution_count": 70,
     "metadata": {},
     "output_type": "execute_result"
    }
   ],
   "source": [
    "energy_within_threshold(0.409*np.ones(len(group1)), group1), energy_within_threshold(0.355*np.ones(len(group2)), group2),energy_within_threshold(0.295*np.ones(len(group3)), group3) "
   ]
  },
  {
   "cell_type": "code",
   "execution_count": 72,
   "id": "4c051cec",
   "metadata": {},
   "outputs": [
    {
     "data": {
      "text/plain": [
       "(380, 377, 363)"
      ]
     },
     "execution_count": 72,
     "metadata": {},
     "output_type": "execute_result"
    }
   ],
   "source": [
    "sum(mask_list_train[3]), sum(mask_list_train[4]), sum(mask_list_train[5])"
   ]
  },
  {
   "cell_type": "code",
   "execution_count": null,
   "id": "56e018d1",
   "metadata": {},
   "outputs": [],
   "source": []
  }
 ],
 "metadata": {
  "kernelspec": {
   "display_name": "Python 3",
   "language": "python",
   "name": "python3"
  },
  "language_info": {
   "codemirror_mode": {
    "name": "ipython",
    "version": 3
   },
   "file_extension": ".py",
   "mimetype": "text/x-python",
   "name": "python",
   "nbconvert_exporter": "python",
   "pygments_lexer": "ipython3",
   "version": "3.8.8"
  }
 },
 "nbformat": 4,
 "nbformat_minor": 5
}
