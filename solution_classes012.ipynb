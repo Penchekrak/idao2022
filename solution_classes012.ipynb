{
 "cells": [
  {
   "cell_type": "code",
   "execution_count": 1,
   "id": "b2662258",
   "metadata": {},
   "outputs": [],
   "source": [
    "import pandas as pd\n",
    "import numpy as np\n",
    "import matplotlib.pyplot as plt\n",
    "\n",
    "import tensorflow as tf\n",
    "\n",
    "\n",
    "from sklearn.tree import DecisionTreeClassifier\n",
    "from sklearn.model_selection import train_test_split\n",
    "\n",
    "import pymatgen\n",
    "\n",
    "from functions.prepare_data_and_sub import prepare_dataset, make_prediction, energy_within_threshold\n",
    "from functions.class2_features import classificate_class2, unufication_class2, geometrical_features\n",
    "from functions.strusture_analysis import decompose, make_masks, find_differ_sites, extract_ideal_structure"
   ]
  },
  {
   "cell_type": "code",
   "execution_count": 2,
   "id": "20389209",
   "metadata": {},
   "outputs": [
    {
     "data": {
      "application/vnd.jupyter.widget-view+json": {
       "model_id": "fcafb285870e4c499d01fda03d2f5a22",
       "version_major": 2,
       "version_minor": 0
      },
      "text/plain": [
       "  0%|          | 0/380 [00:00<?, ?it/s]"
      ]
     },
     "metadata": {},
     "output_type": "display_data"
    }
   ],
   "source": [
    "data = prepare_dataset('data/dichalcogenides_public/')\n",
    "data['decomposition'] = data.structures.apply(decompose)\n",
    "mask_list = make_masks(data)\n",
    "ideal_structure_sites = extract_ideal_structure(data)  \n",
    "data['representative'] = data['structures'].apply(lambda x: find_differ_sites(x.sites, ideal_structure_sites))"
   ]
  },
  {
   "cell_type": "code",
   "execution_count": 3,
   "id": "e5613dff",
   "metadata": {},
   "outputs": [],
   "source": [
    "test = prepare_dataset('data/dichalcogenides_private/', train=False)\n",
    "test['decomposition'] = test.structures.apply(decompose)\n",
    "mask_list_test = make_masks(test)\n",
    "test['representative'] = test['structures'].apply(lambda x: find_differ_sites(x.sites, ideal_structure_sites))\n",
    "\n",
    "test = make_prediction(test, ideal_structure_sites, mask_list_test)"
   ]
  },
  {
   "cell_type": "markdown",
   "id": "9605e258",
   "metadata": {},
   "source": [
    "### Class2:"
   ]
  },
  {
   "cell_type": "code",
   "execution_count": 4,
   "id": "e5cdaa5c",
   "metadata": {},
   "outputs": [
    {
     "name": "stderr",
     "output_type": "stream",
     "text": [
      "/home/polli/IDAO-2022/functions/class2_features.py:15: SettingWithCopyWarning: \n",
      "A value is trying to be set on a copy of a slice from a DataFrame.\n",
      "Try using .loc[row_indexer,col_indexer] = value instead\n",
      "\n",
      "See the caveats in the documentation: https://pandas.pydata.org/pandas-docs/stable/user_guide/indexing.html#returning-a-view-versus-a-copy\n",
      "  sample['representative'] = sample['representative'].apply(lambda x: symmetry_transform_up(x.copy(), x[0].coords))\n",
      "/home/polli/IDAO-2022/functions/class2_features.py:16: SettingWithCopyWarning: \n",
      "A value is trying to be set on a copy of a slice from a DataFrame.\n",
      "Try using .loc[row_indexer,col_indexer] = value instead\n",
      "\n",
      "See the caveats in the documentation: https://pandas.pydata.org/pandas-docs/stable/user_guide/indexing.html#returning-a-view-versus-a-copy\n",
      "  sample['representative'] = sample['representative'].apply(lambda x: orange_closer(x.copy()))\n",
      "/home/polli/IDAO-2022/functions/class2_features.py:22: SettingWithCopyWarning: \n",
      "A value is trying to be set on a copy of a slice from a DataFrame.\n",
      "Try using .loc[row_indexer,col_indexer] = value instead\n",
      "\n",
      "See the caveats in the documentation: https://pandas.pydata.org/pandas-docs/stable/user_guide/indexing.html#returning-a-view-versus-a-copy\n",
      "  data['Mo_coords_' + str(i)] = data['representative'].apply(lambda x: x[0].frac_coords[i])\n",
      "/home/polli/IDAO-2022/functions/class2_features.py:25: SettingWithCopyWarning: \n",
      "A value is trying to be set on a copy of a slice from a DataFrame.\n",
      "Try using .loc[row_indexer,col_indexer] = value instead\n",
      "\n",
      "See the caveats in the documentation: https://pandas.pydata.org/pandas-docs/stable/user_guide/indexing.html#returning-a-view-versus-a-copy\n",
      "  data['S_coords_' + str(i)] = data['representative'].apply(lambda x: x[1].frac_coords[i])\n",
      "/home/polli/IDAO-2022/functions/class2_features.py:28: SettingWithCopyWarning: \n",
      "A value is trying to be set on a copy of a slice from a DataFrame.\n",
      "Try using .loc[row_indexer,col_indexer] = value instead\n",
      "\n",
      "See the caveats in the documentation: https://pandas.pydata.org/pandas-docs/stable/user_guide/indexing.html#returning-a-view-versus-a-copy\n",
      "  data['Se_coords_' + str(i)] = data['representative'].apply(lambda x: x[2].frac_coords[i])\n",
      "/home/polli/IDAO-2022/functions/class2_features.py:30: SettingWithCopyWarning: \n",
      "A value is trying to be set on a copy of a slice from a DataFrame.\n",
      "Try using .loc[row_indexer,col_indexer] = value instead\n",
      "\n",
      "See the caveats in the documentation: https://pandas.pydata.org/pandas-docs/stable/user_guide/indexing.html#returning-a-view-versus-a-copy\n",
      "  data['Mo_S_dist'] = data['representative'].apply(lambda x: np.linalg.norm(x[0].coords - x[1].coords)**0.5)\n",
      "/home/polli/IDAO-2022/functions/class2_features.py:31: SettingWithCopyWarning: \n",
      "A value is trying to be set on a copy of a slice from a DataFrame.\n",
      "Try using .loc[row_indexer,col_indexer] = value instead\n",
      "\n",
      "See the caveats in the documentation: https://pandas.pydata.org/pandas-docs/stable/user_guide/indexing.html#returning-a-view-versus-a-copy\n",
      "  data['S_Se_dist'] = data['representative'].apply(lambda x: np.linalg.norm(x[1].coords - x[2].coords)**0.5)\n",
      "/home/polli/IDAO-2022/functions/class2_features.py:32: SettingWithCopyWarning: \n",
      "A value is trying to be set on a copy of a slice from a DataFrame.\n",
      "Try using .loc[row_indexer,col_indexer] = value instead\n",
      "\n",
      "See the caveats in the documentation: https://pandas.pydata.org/pandas-docs/stable/user_guide/indexing.html#returning-a-view-versus-a-copy\n",
      "  data['Mo_Se_dist'] = data['representative'].apply(lambda x: np.linalg.norm(x[0].coords - x[2].coords)**0.5)\n",
      "/home/polli/IDAO-2022/functions/class2_features.py:35: SettingWithCopyWarning: \n",
      "A value is trying to be set on a copy of a slice from a DataFrame.\n",
      "Try using .loc[row_indexer,col_indexer] = value instead\n",
      "\n",
      "See the caveats in the documentation: https://pandas.pydata.org/pandas-docs/stable/user_guide/indexing.html#returning-a-view-versus-a-copy\n",
      "  data['M_is_boarder'] = data['representative'].apply(lambda x: is_boarder(x[0]))\n",
      "/home/polli/IDAO-2022/functions/class2_features.py:36: SettingWithCopyWarning: \n",
      "A value is trying to be set on a copy of a slice from a DataFrame.\n",
      "Try using .loc[row_indexer,col_indexer] = value instead\n",
      "\n",
      "See the caveats in the documentation: https://pandas.pydata.org/pandas-docs/stable/user_guide/indexing.html#returning-a-view-versus-a-copy\n",
      "  data['S_is_boarder'] = data['representative'].apply(lambda x: is_boarder(x[1]))\n",
      "/home/polli/IDAO-2022/functions/class2_features.py:37: SettingWithCopyWarning: \n",
      "A value is trying to be set on a copy of a slice from a DataFrame.\n",
      "Try using .loc[row_indexer,col_indexer] = value instead\n",
      "\n",
      "See the caveats in the documentation: https://pandas.pydata.org/pandas-docs/stable/user_guide/indexing.html#returning-a-view-versus-a-copy\n",
      "  data['Se_is_boarder'] = data['representative'].apply(lambda x: is_boarder(x[2]))\n",
      "/home/polli/IDAO-2022/functions/class2_features.py:38: SettingWithCopyWarning: \n",
      "A value is trying to be set on a copy of a slice from a DataFrame.\n",
      "Try using .loc[row_indexer,col_indexer] = value instead\n",
      "\n",
      "See the caveats in the documentation: https://pandas.pydata.org/pandas-docs/stable/user_guide/indexing.html#returning-a-view-versus-a-copy\n",
      "  data['M_is_boarder_0'] = data['M_is_boarder'] == 0\n",
      "/home/polli/IDAO-2022/functions/class2_features.py:39: SettingWithCopyWarning: \n",
      "A value is trying to be set on a copy of a slice from a DataFrame.\n",
      "Try using .loc[row_indexer,col_indexer] = value instead\n",
      "\n",
      "See the caveats in the documentation: https://pandas.pydata.org/pandas-docs/stable/user_guide/indexing.html#returning-a-view-versus-a-copy\n",
      "  data['M_is_boarder_1'] = data['M_is_boarder'] == 1\n",
      "/home/polli/IDAO-2022/functions/class2_features.py:40: SettingWithCopyWarning: \n",
      "A value is trying to be set on a copy of a slice from a DataFrame.\n",
      "Try using .loc[row_indexer,col_indexer] = value instead\n",
      "\n",
      "See the caveats in the documentation: https://pandas.pydata.org/pandas-docs/stable/user_guide/indexing.html#returning-a-view-versus-a-copy\n",
      "  data['S_is_boarder_0'] = data['S_is_boarder'] == 0\n",
      "/home/polli/IDAO-2022/functions/class2_features.py:41: SettingWithCopyWarning: \n",
      "A value is trying to be set on a copy of a slice from a DataFrame.\n",
      "Try using .loc[row_indexer,col_indexer] = value instead\n",
      "\n",
      "See the caveats in the documentation: https://pandas.pydata.org/pandas-docs/stable/user_guide/indexing.html#returning-a-view-versus-a-copy\n",
      "  data['S_is_boarder_1'] = data['S_is_boarder'] == 1\n",
      "/home/polli/IDAO-2022/functions/class2_features.py:42: SettingWithCopyWarning: \n",
      "A value is trying to be set on a copy of a slice from a DataFrame.\n",
      "Try using .loc[row_indexer,col_indexer] = value instead\n",
      "\n",
      "See the caveats in the documentation: https://pandas.pydata.org/pandas-docs/stable/user_guide/indexing.html#returning-a-view-versus-a-copy\n",
      "  data['Se_is_boarder_1'] = data['Se_is_boarder'] == 1\n",
      "/home/polli/IDAO-2022/functions/class2_features.py:43: SettingWithCopyWarning: \n",
      "A value is trying to be set on a copy of a slice from a DataFrame.\n",
      "Try using .loc[row_indexer,col_indexer] = value instead\n",
      "\n",
      "See the caveats in the documentation: https://pandas.pydata.org/pandas-docs/stable/user_guide/indexing.html#returning-a-view-versus-a-copy\n",
      "  data['Se_is_boarder_0'] = data['Se_is_boarder'] == 0\n"
     ]
    }
   ],
   "source": [
    "model = DecisionTreeClassifier(max_depth=15, random_state=13)\n",
    "\n",
    "class2 = data[mask_list[2]].copy()\n",
    "class2['group'] = class2['targets'].apply(classificate_class2)\n",
    "\n",
    "class2 = unufication_class2(class2)\n",
    "class2 = geometrical_features(class2)\n",
    "\n",
    "test_class2 = unufication_class2(test[mask_list_test[2]])\n",
    "test_class2 = geometrical_features(test_class2)\n",
    "\n",
    "feature_list = ['Mo_S_dist', 'S_Se_dist', 'Mo_Se_dist']\n",
    "model.fit(class2[feature_list], class2['group'])\n",
    "\n",
    "y_predicted3 = model.predict(test_class2[feature_list])"
   ]
  },
  {
   "cell_type": "code",
   "execution_count": 8,
   "id": "ca4739d3",
   "metadata": {},
   "outputs": [],
   "source": [
    "class2 = class2[(class2.group == 2) | (class2.group == 1)]"
   ]
  },
  {
   "cell_type": "code",
   "execution_count": 9,
   "id": "d3d7f9d6",
   "metadata": {},
   "outputs": [
    {
     "data": {
      "text/plain": [
       "Index(['structures', 'targets', 'decomposition', 'representative', 'group',\n",
       "       'Mo_coords_0', 'Mo_coords_1', 'Mo_coords_2', 'S_coords_0', 'S_coords_1',\n",
       "       'S_coords_2', 'Se_coords_0', 'Se_coords_1', 'Se_coords_2', 'Mo_S_dist',\n",
       "       'S_Se_dist', 'Mo_Se_dist', 'M_is_boarder', 'S_is_boarder',\n",
       "       'Se_is_boarder', 'M_is_boarder_0', 'M_is_boarder_1', 'S_is_boarder_0',\n",
       "       'S_is_boarder_1', 'Se_is_boarder_1', 'Se_is_boarder_0'],\n",
       "      dtype='object')"
      ]
     },
     "execution_count": 9,
     "metadata": {},
     "output_type": "execute_result"
    }
   ],
   "source": [
    "class2.columns"
   ]
  },
  {
   "cell_type": "code",
   "execution_count": 14,
   "id": "ff3aa0c0",
   "metadata": {},
   "outputs": [
    {
     "name": "stderr",
     "output_type": "stream",
     "text": [
      "/home/polli/anaconda3/lib/python3.8/site-packages/xgboost/sklearn.py:1224: UserWarning: The use of label encoder in XGBClassifier is deprecated and will be removed in a future release. To remove this warning, do the following: 1) Pass option use_label_encoder=False when constructing XGBClassifier object; and 2) Encode your labels (y) as integers starting with 0, i.e. 0, 1, 2, ..., [num_class - 1].\n",
      "  warnings.warn(label_encoder_deprecation_msg, UserWarning)\n"
     ]
    },
    {
     "name": "stdout",
     "output_type": "stream",
     "text": [
      "[11:45:45] WARNING: ../src/learner.cc:1115: Starting in XGBoost 1.3.0, the default evaluation metric used with the objective 'binary:logistic' was changed from 'error' to 'logloss'. Explicitly set eval_metric if you'd like to restore the old behavior.\n"
     ]
    }
   ],
   "source": [
    "from xgboost import XGBClassifier\n",
    "\n",
    "feature_list = list(class2.columns[5:])\n",
    "\n",
    "model = XGBClassifier(n_estimators=150, random_state=0xC0FFEE)\n",
    "model.fit(class2[feature_list], class2['group'])\n",
    "y_predicted_12 = model.predict(test_class2[feature_list])\n"
   ]
  },
  {
   "cell_type": "code",
   "execution_count": 16,
   "id": "ee489fdd",
   "metadata": {},
   "outputs": [],
   "source": [
    "mask_class2_1 = np.array([False] * len(test))\n",
    "mask_class2_1[mask_list_test[2]] = (y_predicted3 != 3) & (y_predicted_12 == 1)\n",
    "\n",
    "mask_class2_2 = np.array([False] * len(test))\n",
    "mask_class2_2[mask_list_test[2]] = (y_predicted3 != 3) & (y_predicted_12 == 2)\n",
    "\n",
    "mask_class2_3 = np.array([False] * len(test))\n",
    "mask_class2_3[mask_list_test[2]] = (y_predicted3 == 3)\n",
    "\n",
    "test.loc[mask_class2_1, 'predictions'] = 0.41\n",
    "test.loc[mask_class2_2, 'predictions'] = 0.36\n",
    "test.loc[mask_class2_3, 'predictions'] = 0.29"
   ]
  },
  {
   "cell_type": "code",
   "execution_count": null,
   "id": "a3625488",
   "metadata": {},
   "outputs": [],
   "source": [
    "our_submission = test[['predictions']].copy()\n",
    "baseline = pd.read_csv('submission.csv', index_col=0)\n",
    "\n",
    "unite_sub = our_submission.join(baseline, lsuffix='_our', rsuffix='_bas')\n",
    "unite_sub.loc[mask_list_test[0] | mask_list_test[1] | mask_list_test[2], 'predictions'] = unite_sub['predictions_our']\n",
    "unite_sub.loc[~(mask_list_test[0] | mask_list_test[1] | mask_list_test[2]), 'predictions'] = unite_sub['predictions_bas']\n",
    "unite_sub['predictions'].to_csv('best_submission_in_the_world1_full.csv')"
   ]
  },
  {
   "cell_type": "code",
   "execution_count": null,
   "id": "b7a69ff3",
   "metadata": {},
   "outputs": [],
   "source": []
  }
 ],
 "metadata": {
  "kernelspec": {
   "display_name": "Python 3",
   "language": "python",
   "name": "python3"
  },
  "language_info": {
   "codemirror_mode": {
    "name": "ipython",
    "version": 3
   },
   "file_extension": ".py",
   "mimetype": "text/x-python",
   "name": "python",
   "nbconvert_exporter": "python",
   "pygments_lexer": "ipython3",
   "version": "3.8.8"
  }
 },
 "nbformat": 4,
 "nbformat_minor": 5
}
