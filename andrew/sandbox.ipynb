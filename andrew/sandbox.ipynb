{
 "cells": [
  {
   "cell_type": "code",
   "execution_count": 2,
   "id": "cee24a7b",
   "metadata": {
    "pycharm": {
     "name": "#%%\n"
    }
   },
   "outputs": [
    {
     "name": "stderr",
     "output_type": "stream",
     "text": [
      "2022-02-25 13:35:13.389952: W tensorflow/stream_executor/platform/default/dso_loader.cc:64] Could not load dynamic library 'libcudart.so.11.0'; dlerror: libcudart.so.11.0: cannot open shared object file: No such file or directory; LD_LIBRARY_PATH: /usr/local/cuda-9.0/lib64\n",
      "2022-02-25 13:35:13.390003: I tensorflow/stream_executor/cuda/cudart_stub.cc:29] Ignore above cudart dlerror if you do not have a GPU set up on your machine.\n"
     ]
    }
   ],
   "source": [
    "import pymatgen\n",
    "import json\n",
    "from tensorflow.keras.optimizers import schedules"
   ]
  },
  {
   "cell_type": "code",
   "execution_count": null,
   "id": "a6cb8643",
   "metadata": {},
   "outputs": [],
   "source": [
    "schedules."
   ]
  },
  {
   "cell_type": "code",
   "execution_count": 2,
   "id": "8cb0816c",
   "metadata": {},
   "outputs": [
    {
     "name": "stderr",
     "output_type": "stream",
     "text": [
      "/home/penchekrak/anaconda3/envs/idao2022/lib/python3.8/site-packages/pymatgen/core/__init__.py:49: UserWarning: Error loading .pmgrc.yaml: [Errno 2] No such file or directory: '/home/penchekrak/.pmgrc.yaml'. You may need to reconfigure your yaml file.\n",
      "  warnings.warn(f\"Error loading .pmgrc.yaml: {ex}. You may need to reconfigure your yaml file.\")\n"
     ]
    }
   ],
   "source": [
    "from pymatgen.core.structure import Structure"
   ]
  },
  {
   "cell_type": "code",
   "execution_count": 3,
   "id": "7930e7d0",
   "metadata": {
    "pycharm": {
     "name": "#%%\n"
    }
   },
   "outputs": [],
   "source": [
    "structure_file = open('../data/dichalcogenides_public/structures/6141cf0f51c1cbd9654b8870.json')"
   ]
  },
  {
   "cell_type": "code",
   "execution_count": 4,
   "id": "1f5c9dda",
   "metadata": {},
   "outputs": [],
   "source": [
    "structure_dict = json.load(structure_file)"
   ]
  },
  {
   "cell_type": "code",
   "execution_count": 5,
   "id": "2b51bda0",
   "metadata": {},
   "outputs": [],
   "source": [
    "structure = pymatgen.core.Structure.from_dict(structure_dict)"
   ]
  },
  {
   "cell_type": "code",
   "execution_count": 6,
   "id": "d58c4328",
   "metadata": {},
   "outputs": [
    {
     "data": {
      "text/plain": [
       "Structure Summary\n",
       "Lattice\n",
       "    abc : 25.5225256 25.5225256 14.879004\n",
       " angles : 90.0 90.0 119.99999999999999\n",
       " volume : 8393.668021812642\n",
       "      A : 25.5225256 0.0 1.5628039641098191e-15\n",
       "      B : -12.761262799999994 22.10315553833868 1.5628039641098191e-15\n",
       "      C : 0.0 0.0 14.879004\n",
       "PeriodicSite: Mo (0.0000, 1.8419, 3.7198) [0.0417, 0.0833, 0.2500]\n",
       "PeriodicSite: Mo (-1.5952, 4.6048, 3.7198) [0.0417, 0.2083, 0.2500]\n",
       "PeriodicSite: Mo (-3.1903, 7.3677, 3.7198) [0.0417, 0.3333, 0.2500]\n",
       "PeriodicSite: Mo (-4.7855, 10.1306, 3.7198) [0.0417, 0.4583, 0.2500]\n",
       "PeriodicSite: Mo (-6.3806, 12.8935, 3.7198) [0.0417, 0.5833, 0.2500]\n",
       "PeriodicSite: Mo (-7.9758, 15.6564, 3.7198) [0.0417, 0.7083, 0.2500]\n",
       "PeriodicSite: Mo (-9.5709, 18.4193, 3.7198) [0.0417, 0.8333, 0.2500]\n",
       "PeriodicSite: Mo (-11.1661, 21.1822, 3.7198) [0.0417, 0.9583, 0.2500]\n",
       "PeriodicSite: Mo (3.1903, 1.8419, 3.7198) [0.1667, 0.0833, 0.2500]\n",
       "PeriodicSite: Mo (1.5952, 4.6048, 3.7198) [0.1667, 0.2083, 0.2500]\n",
       "PeriodicSite: Mo (0.0000, 7.3677, 3.7198) [0.1667, 0.3333, 0.2500]\n",
       "PeriodicSite: Mo (-1.5952, 10.1306, 3.7198) [0.1667, 0.4583, 0.2500]\n",
       "PeriodicSite: Mo (-3.1903, 12.8935, 3.7198) [0.1667, 0.5833, 0.2500]\n",
       "PeriodicSite: Mo (-4.7855, 15.6564, 3.7198) [0.1667, 0.7083, 0.2500]\n",
       "PeriodicSite: Mo (-6.3806, 18.4193, 3.7198) [0.1667, 0.8333, 0.2500]\n",
       "PeriodicSite: Mo (-7.9758, 21.1822, 3.7198) [0.1667, 0.9583, 0.2500]\n",
       "PeriodicSite: Mo (6.3806, 1.8419, 3.7198) [0.2917, 0.0833, 0.2500]\n",
       "PeriodicSite: Mo (4.7855, 4.6048, 3.7198) [0.2917, 0.2083, 0.2500]\n",
       "PeriodicSite: Mo (3.1903, 7.3677, 3.7198) [0.2917, 0.3333, 0.2500]\n",
       "PeriodicSite: Mo (1.5952, 10.1306, 3.7198) [0.2917, 0.4583, 0.2500]\n",
       "PeriodicSite: Mo (0.0000, 12.8935, 3.7198) [0.2917, 0.5833, 0.2500]\n",
       "PeriodicSite: Mo (-1.5952, 15.6564, 3.7198) [0.2917, 0.7083, 0.2500]\n",
       "PeriodicSite: Mo (-3.1903, 18.4193, 3.7198) [0.2917, 0.8333, 0.2500]\n",
       "PeriodicSite: Mo (-4.7855, 21.1822, 3.7198) [0.2917, 0.9583, 0.2500]\n",
       "PeriodicSite: Mo (9.5709, 1.8419, 3.7198) [0.4167, 0.0833, 0.2500]\n",
       "PeriodicSite: Mo (7.9758, 4.6048, 3.7198) [0.4167, 0.2083, 0.2500]\n",
       "PeriodicSite: Mo (6.3806, 7.3677, 3.7198) [0.4167, 0.3333, 0.2500]\n",
       "PeriodicSite: Mo (4.7855, 10.1306, 3.7198) [0.4167, 0.4583, 0.2500]\n",
       "PeriodicSite: Mo (3.1903, 12.8935, 3.7198) [0.4167, 0.5833, 0.2500]\n",
       "PeriodicSite: Mo (1.5952, 15.6564, 3.7198) [0.4167, 0.7083, 0.2500]\n",
       "PeriodicSite: Mo (0.0000, 18.4193, 3.7198) [0.4167, 0.8333, 0.2500]\n",
       "PeriodicSite: Mo (-1.5952, 21.1822, 3.7198) [0.4167, 0.9583, 0.2500]\n",
       "PeriodicSite: Mo (12.7613, 1.8419, 3.7198) [0.5417, 0.0833, 0.2500]\n",
       "PeriodicSite: Mo (11.1661, 4.6048, 3.7198) [0.5417, 0.2083, 0.2500]\n",
       "PeriodicSite: Mo (9.5709, 7.3677, 3.7198) [0.5417, 0.3333, 0.2500]\n",
       "PeriodicSite: Mo (7.9758, 10.1306, 3.7198) [0.5417, 0.4583, 0.2500]\n",
       "PeriodicSite: Mo (6.3806, 12.8935, 3.7198) [0.5417, 0.5833, 0.2500]\n",
       "PeriodicSite: Mo (4.7855, 15.6564, 3.7198) [0.5417, 0.7083, 0.2500]\n",
       "PeriodicSite: Mo (3.1903, 18.4193, 3.7198) [0.5417, 0.8333, 0.2500]\n",
       "PeriodicSite: Mo (1.5952, 21.1822, 3.7198) [0.5417, 0.9583, 0.2500]\n",
       "PeriodicSite: Mo (15.9516, 1.8419, 3.7198) [0.6667, 0.0833, 0.2500]\n",
       "PeriodicSite: Mo (14.3564, 4.6048, 3.7198) [0.6667, 0.2083, 0.2500]\n",
       "PeriodicSite: Mo (12.7613, 7.3677, 3.7198) [0.6667, 0.3333, 0.2500]\n",
       "PeriodicSite: Mo (11.1661, 10.1306, 3.7198) [0.6667, 0.4583, 0.2500]\n",
       "PeriodicSite: Mo (9.5709, 12.8935, 3.7198) [0.6667, 0.5833, 0.2500]\n",
       "PeriodicSite: Mo (7.9758, 15.6564, 3.7198) [0.6667, 0.7083, 0.2500]\n",
       "PeriodicSite: Mo (6.3806, 18.4193, 3.7198) [0.6667, 0.8333, 0.2500]\n",
       "PeriodicSite: Mo (4.7855, 21.1822, 3.7198) [0.6667, 0.9583, 0.2500]\n",
       "PeriodicSite: Mo (19.1419, 1.8419, 3.7198) [0.7917, 0.0833, 0.2500]\n",
       "PeriodicSite: Mo (17.5467, 4.6048, 3.7198) [0.7917, 0.2083, 0.2500]\n",
       "PeriodicSite: Mo (15.9516, 7.3677, 3.7198) [0.7917, 0.3333, 0.2500]\n",
       "PeriodicSite: Mo (14.3564, 10.1306, 3.7198) [0.7917, 0.4583, 0.2500]\n",
       "PeriodicSite: Mo (12.7613, 12.8935, 3.7198) [0.7917, 0.5833, 0.2500]\n",
       "PeriodicSite: Mo (11.1661, 15.6564, 3.7198) [0.7917, 0.7083, 0.2500]\n",
       "PeriodicSite: Mo (9.5709, 18.4193, 3.7198) [0.7917, 0.8333, 0.2500]\n",
       "PeriodicSite: Mo (7.9758, 21.1822, 3.7198) [0.7917, 0.9583, 0.2500]\n",
       "PeriodicSite: Mo (22.3322, 1.8419, 3.7198) [0.9167, 0.0833, 0.2500]\n",
       "PeriodicSite: Mo (20.7371, 4.6048, 3.7198) [0.9167, 0.2083, 0.2500]\n",
       "PeriodicSite: Mo (19.1419, 7.3677, 3.7198) [0.9167, 0.3333, 0.2500]\n",
       "PeriodicSite: Mo (17.5467, 10.1306, 3.7198) [0.9167, 0.4583, 0.2500]\n",
       "PeriodicSite: Mo (15.9516, 12.8935, 3.7198) [0.9167, 0.5833, 0.2500]\n",
       "PeriodicSite: Mo (14.3564, 15.6564, 3.7198) [0.9167, 0.7083, 0.2500]\n",
       "PeriodicSite: Mo (12.7613, 18.4193, 3.7198) [0.9167, 0.8333, 0.2500]\n",
       "PeriodicSite: Mo (11.1661, 21.1822, 3.7198) [0.9167, 0.9583, 0.2500]\n",
       "PeriodicSite: S (1.5952, 0.9210, 2.1549) [0.0833, 0.0417, 0.1448]\n",
       "PeriodicSite: S (-0.0000, 3.6839, 2.1549) [0.0833, 0.1667, 0.1448]\n",
       "PeriodicSite: S (-1.5952, 6.4468, 2.1549) [0.0833, 0.2917, 0.1448]\n",
       "PeriodicSite: S (-3.1903, 9.2096, 2.1549) [0.0833, 0.4167, 0.1448]\n",
       "PeriodicSite: S (-4.7855, 11.9725, 2.1549) [0.0833, 0.5417, 0.1448]\n",
       "PeriodicSite: S (-6.3806, 14.7354, 2.1549) [0.0833, 0.6667, 0.1448]\n",
       "PeriodicSite: S (-7.9758, 17.4983, 2.1549) [0.0833, 0.7917, 0.1448]\n",
       "PeriodicSite: S (-9.5709, 20.2612, 2.1549) [0.0833, 0.9167, 0.1448]\n",
       "PeriodicSite: S (4.7855, 0.9210, 2.1549) [0.2083, 0.0417, 0.1448]\n",
       "PeriodicSite: S (3.1903, 3.6839, 2.1549) [0.2083, 0.1667, 0.1448]\n",
       "PeriodicSite: S (1.5952, 6.4468, 2.1549) [0.2083, 0.2917, 0.1448]\n",
       "PeriodicSite: S (-0.0000, 9.2096, 2.1549) [0.2083, 0.4167, 0.1448]\n",
       "PeriodicSite: S (-1.5952, 11.9725, 2.1549) [0.2083, 0.5417, 0.1448]\n",
       "PeriodicSite: S (-3.1903, 14.7354, 2.1549) [0.2083, 0.6667, 0.1448]\n",
       "PeriodicSite: S (-4.7855, 17.4983, 2.1549) [0.2083, 0.7917, 0.1448]\n",
       "PeriodicSite: S (-6.3806, 20.2612, 2.1549) [0.2083, 0.9167, 0.1448]\n",
       "PeriodicSite: S (7.9758, 0.9210, 2.1549) [0.3333, 0.0417, 0.1448]\n",
       "PeriodicSite: S (6.3806, 3.6839, 2.1549) [0.3333, 0.1667, 0.1448]\n",
       "PeriodicSite: S (4.7855, 6.4468, 2.1549) [0.3333, 0.2917, 0.1448]\n",
       "PeriodicSite: S (3.1903, 9.2096, 2.1549) [0.3333, 0.4167, 0.1448]\n",
       "PeriodicSite: S (1.5952, 11.9725, 2.1549) [0.3333, 0.5417, 0.1448]\n",
       "PeriodicSite: S (0.0000, 14.7354, 2.1549) [0.3333, 0.6667, 0.1448]\n",
       "PeriodicSite: S (-1.5952, 17.4983, 2.1549) [0.3333, 0.7917, 0.1448]\n",
       "PeriodicSite: S (-3.1903, 20.2612, 2.1549) [0.3333, 0.9167, 0.1448]\n",
       "PeriodicSite: S (11.1661, 0.9210, 2.1549) [0.4583, 0.0417, 0.1448]\n",
       "PeriodicSite: S (9.5709, 3.6839, 2.1549) [0.4583, 0.1667, 0.1448]\n",
       "PeriodicSite: S (7.9758, 6.4468, 2.1549) [0.4583, 0.2917, 0.1448]\n",
       "PeriodicSite: S (6.3806, 9.2096, 2.1549) [0.4583, 0.4167, 0.1448]\n",
       "PeriodicSite: S (4.7855, 11.9725, 2.1549) [0.4583, 0.5417, 0.1448]\n",
       "PeriodicSite: S (3.1903, 14.7354, 2.1549) [0.4583, 0.6667, 0.1448]\n",
       "PeriodicSite: S (1.5952, 17.4983, 2.1549) [0.4583, 0.7917, 0.1448]\n",
       "PeriodicSite: S (-0.0000, 20.2612, 2.1549) [0.4583, 0.9167, 0.1448]\n",
       "PeriodicSite: S (14.3564, 0.9210, 2.1549) [0.5833, 0.0417, 0.1448]\n",
       "PeriodicSite: S (12.7613, 3.6839, 2.1549) [0.5833, 0.1667, 0.1448]\n",
       "PeriodicSite: S (11.1661, 6.4468, 2.1549) [0.5833, 0.2917, 0.1448]\n",
       "PeriodicSite: S (9.5709, 9.2096, 2.1549) [0.5833, 0.4167, 0.1448]\n",
       "PeriodicSite: S (7.9758, 11.9725, 2.1549) [0.5833, 0.5417, 0.1448]\n",
       "PeriodicSite: S (6.3806, 14.7354, 2.1549) [0.5833, 0.6667, 0.1448]\n",
       "PeriodicSite: S (4.7855, 17.4983, 2.1549) [0.5833, 0.7917, 0.1448]\n",
       "PeriodicSite: S (3.1903, 20.2612, 2.1549) [0.5833, 0.9167, 0.1448]\n",
       "PeriodicSite: S (17.5467, 0.9210, 2.1549) [0.7083, 0.0417, 0.1448]\n",
       "PeriodicSite: S (15.9516, 3.6839, 2.1549) [0.7083, 0.1667, 0.1448]\n",
       "PeriodicSite: S (12.7613, 9.2096, 2.1549) [0.7083, 0.4167, 0.1448]\n",
       "PeriodicSite: S (11.1661, 11.9725, 2.1549) [0.7083, 0.5417, 0.1448]\n",
       "PeriodicSite: S (9.5709, 14.7354, 2.1549) [0.7083, 0.6667, 0.1448]\n",
       "PeriodicSite: S (7.9758, 17.4983, 2.1549) [0.7083, 0.7917, 0.1448]\n",
       "PeriodicSite: S (6.3806, 20.2612, 2.1549) [0.7083, 0.9167, 0.1448]\n",
       "PeriodicSite: S (20.7371, 0.9210, 2.1549) [0.8333, 0.0417, 0.1448]\n",
       "PeriodicSite: S (19.1419, 3.6839, 2.1549) [0.8333, 0.1667, 0.1448]\n",
       "PeriodicSite: S (17.5467, 6.4468, 2.1549) [0.8333, 0.2917, 0.1448]\n",
       "PeriodicSite: S (15.9516, 9.2096, 2.1549) [0.8333, 0.4167, 0.1448]\n",
       "PeriodicSite: S (14.3564, 11.9725, 2.1549) [0.8333, 0.5417, 0.1448]\n",
       "PeriodicSite: S (12.7613, 14.7354, 2.1549) [0.8333, 0.6667, 0.1448]\n",
       "PeriodicSite: S (11.1661, 17.4983, 2.1549) [0.8333, 0.7917, 0.1448]\n",
       "PeriodicSite: S (9.5709, 20.2612, 2.1549) [0.8333, 0.9167, 0.1448]\n",
       "PeriodicSite: S (23.9274, 0.9210, 2.1549) [0.9583, 0.0417, 0.1448]\n",
       "PeriodicSite: S (22.3322, 3.6839, 2.1549) [0.9583, 0.1667, 0.1448]\n",
       "PeriodicSite: S (20.7371, 6.4468, 2.1549) [0.9583, 0.2917, 0.1448]\n",
       "PeriodicSite: S (19.1419, 9.2096, 2.1549) [0.9583, 0.4167, 0.1448]\n",
       "PeriodicSite: S (17.5467, 11.9725, 2.1549) [0.9583, 0.5417, 0.1448]\n",
       "PeriodicSite: S (15.9516, 14.7354, 2.1549) [0.9583, 0.6667, 0.1448]\n",
       "PeriodicSite: S (14.3564, 17.4983, 2.1549) [0.9583, 0.7917, 0.1448]\n",
       "PeriodicSite: S (12.7613, 20.2612, 2.1549) [0.9583, 0.9167, 0.1448]\n",
       "PeriodicSite: S (1.5952, 0.9210, 5.2846) [0.0833, 0.0417, 0.3552]\n",
       "PeriodicSite: S (-0.0000, 3.6839, 5.2846) [0.0833, 0.1667, 0.3552]\n",
       "PeriodicSite: S (-1.5952, 6.4468, 5.2846) [0.0833, 0.2917, 0.3552]\n",
       "PeriodicSite: S (-3.1903, 9.2096, 5.2846) [0.0833, 0.4167, 0.3552]\n",
       "PeriodicSite: S (-4.7855, 11.9725, 5.2846) [0.0833, 0.5417, 0.3552]\n",
       "PeriodicSite: S (-6.3806, 14.7354, 5.2846) [0.0833, 0.6667, 0.3552]\n",
       "PeriodicSite: S (-7.9758, 17.4983, 5.2846) [0.0833, 0.7917, 0.3552]\n",
       "PeriodicSite: S (-9.5709, 20.2612, 5.2846) [0.0833, 0.9167, 0.3552]\n",
       "PeriodicSite: S (4.7855, 0.9210, 5.2846) [0.2083, 0.0417, 0.3552]\n",
       "PeriodicSite: S (3.1903, 3.6839, 5.2846) [0.2083, 0.1667, 0.3552]\n",
       "PeriodicSite: S (1.5952, 6.4468, 5.2846) [0.2083, 0.2917, 0.3552]\n",
       "PeriodicSite: S (-0.0000, 9.2096, 5.2846) [0.2083, 0.4167, 0.3552]\n",
       "PeriodicSite: S (-1.5952, 11.9725, 5.2846) [0.2083, 0.5417, 0.3552]\n",
       "PeriodicSite: S (-3.1903, 14.7354, 5.2846) [0.2083, 0.6667, 0.3552]\n",
       "PeriodicSite: S (-4.7855, 17.4983, 5.2846) [0.2083, 0.7917, 0.3552]\n",
       "PeriodicSite: S (-6.3806, 20.2612, 5.2846) [0.2083, 0.9167, 0.3552]\n",
       "PeriodicSite: S (7.9758, 0.9210, 5.2846) [0.3333, 0.0417, 0.3552]\n",
       "PeriodicSite: S (6.3806, 3.6839, 5.2846) [0.3333, 0.1667, 0.3552]\n",
       "PeriodicSite: S (4.7855, 6.4468, 5.2846) [0.3333, 0.2917, 0.3552]\n",
       "PeriodicSite: S (3.1903, 9.2096, 5.2846) [0.3333, 0.4167, 0.3552]\n",
       "PeriodicSite: S (1.5952, 11.9725, 5.2846) [0.3333, 0.5417, 0.3552]\n",
       "PeriodicSite: S (0.0000, 14.7354, 5.2846) [0.3333, 0.6667, 0.3552]\n",
       "PeriodicSite: S (-1.5952, 17.4983, 5.2846) [0.3333, 0.7917, 0.3552]\n",
       "PeriodicSite: S (-3.1903, 20.2612, 5.2846) [0.3333, 0.9167, 0.3552]\n",
       "PeriodicSite: S (11.1661, 0.9210, 5.2846) [0.4583, 0.0417, 0.3552]\n",
       "PeriodicSite: S (9.5709, 3.6839, 5.2846) [0.4583, 0.1667, 0.3552]\n",
       "PeriodicSite: S (7.9758, 6.4468, 5.2846) [0.4583, 0.2917, 0.3552]\n",
       "PeriodicSite: S (6.3806, 9.2096, 5.2846) [0.4583, 0.4167, 0.3552]\n",
       "PeriodicSite: S (4.7855, 11.9725, 5.2846) [0.4583, 0.5417, 0.3552]\n",
       "PeriodicSite: S (3.1903, 14.7354, 5.2846) [0.4583, 0.6667, 0.3552]\n",
       "PeriodicSite: S (1.5952, 17.4983, 5.2846) [0.4583, 0.7917, 0.3552]\n",
       "PeriodicSite: S (-0.0000, 20.2612, 5.2846) [0.4583, 0.9167, 0.3552]\n",
       "PeriodicSite: S (14.3564, 0.9210, 5.2846) [0.5833, 0.0417, 0.3552]\n",
       "PeriodicSite: S (12.7613, 3.6839, 5.2846) [0.5833, 0.1667, 0.3552]\n",
       "PeriodicSite: S (11.1661, 6.4468, 5.2846) [0.5833, 0.2917, 0.3552]\n",
       "PeriodicSite: S (7.9758, 11.9725, 5.2846) [0.5833, 0.5417, 0.3552]\n",
       "PeriodicSite: S (6.3806, 14.7354, 5.2846) [0.5833, 0.6667, 0.3552]\n",
       "PeriodicSite: S (4.7855, 17.4983, 5.2846) [0.5833, 0.7917, 0.3552]\n",
       "PeriodicSite: S (3.1903, 20.2612, 5.2846) [0.5833, 0.9167, 0.3552]\n",
       "PeriodicSite: S (17.5467, 0.9210, 5.2846) [0.7083, 0.0417, 0.3552]\n",
       "PeriodicSite: S (15.9516, 3.6839, 5.2846) [0.7083, 0.1667, 0.3552]\n",
       "PeriodicSite: S (14.3564, 6.4468, 5.2846) [0.7083, 0.2917, 0.3552]\n",
       "PeriodicSite: S (12.7613, 9.2096, 5.2846) [0.7083, 0.4167, 0.3552]\n",
       "PeriodicSite: S (11.1661, 11.9725, 5.2846) [0.7083, 0.5417, 0.3552]\n",
       "PeriodicSite: S (9.5709, 14.7354, 5.2846) [0.7083, 0.6667, 0.3552]\n",
       "PeriodicSite: S (7.9758, 17.4983, 5.2846) [0.7083, 0.7917, 0.3552]\n",
       "PeriodicSite: S (6.3806, 20.2612, 5.2846) [0.7083, 0.9167, 0.3552]\n",
       "PeriodicSite: S (20.7371, 0.9210, 5.2846) [0.8333, 0.0417, 0.3552]\n",
       "PeriodicSite: S (19.1419, 3.6839, 5.2846) [0.8333, 0.1667, 0.3552]\n",
       "PeriodicSite: S (17.5467, 6.4468, 5.2846) [0.8333, 0.2917, 0.3552]\n",
       "PeriodicSite: S (15.9516, 9.2096, 5.2846) [0.8333, 0.4167, 0.3552]\n",
       "PeriodicSite: S (14.3564, 11.9725, 5.2846) [0.8333, 0.5417, 0.3552]\n",
       "PeriodicSite: S (12.7613, 14.7354, 5.2846) [0.8333, 0.6667, 0.3552]\n",
       "PeriodicSite: S (11.1661, 17.4983, 5.2846) [0.8333, 0.7917, 0.3552]\n",
       "PeriodicSite: S (9.5709, 20.2612, 5.2846) [0.8333, 0.9167, 0.3552]\n",
       "PeriodicSite: S (23.9274, 0.9210, 5.2846) [0.9583, 0.0417, 0.3552]\n",
       "PeriodicSite: S (22.3322, 3.6839, 5.2846) [0.9583, 0.1667, 0.3552]\n",
       "PeriodicSite: S (20.7371, 6.4468, 5.2846) [0.9583, 0.2917, 0.3552]\n",
       "PeriodicSite: S (19.1419, 9.2096, 5.2846) [0.9583, 0.4167, 0.3552]\n",
       "PeriodicSite: S (17.5467, 11.9725, 5.2846) [0.9583, 0.5417, 0.3552]\n",
       "PeriodicSite: S (15.9516, 14.7354, 5.2846) [0.9583, 0.6667, 0.3552]\n",
       "PeriodicSite: S (14.3564, 17.4983, 5.2846) [0.9583, 0.7917, 0.3552]\n",
       "PeriodicSite: S (12.7613, 20.2612, 5.2846) [0.9583, 0.9167, 0.3552]"
      ]
     },
     "execution_count": 6,
     "metadata": {},
     "output_type": "execute_result"
    }
   ],
   "source": [
    "structure"
   ]
  },
  {
   "cell_type": "code",
   "execution_count": 7,
   "id": "f10f3317",
   "metadata": {},
   "outputs": [],
   "source": [
    "from pymatgen.vis.structure_vtk import StructureVis"
   ]
  },
  {
   "cell_type": "code",
   "execution_count": 9,
   "id": "e713d4dc",
   "metadata": {},
   "outputs": [],
   "source": [
    "from pymatgen.vis.structure_chemview import quick_view"
   ]
  },
  {
   "cell_type": "code",
   "execution_count": 11,
   "id": "42bf01ce",
   "metadata": {},
   "outputs": [],
   "source": [
    "v = quick_view(structure)"
   ]
  },
  {
   "cell_type": "code",
   "execution_count": 14,
   "id": "79c45143",
   "metadata": {},
   "outputs": [],
   "source": [
    "v.points()"
   ]
  },
  {
   "cell_type": "code",
   "execution_count": 15,
   "id": "4e47eac0",
   "metadata": {},
   "outputs": [
    {
     "data": {
      "application/vnd.jupyter.widget-view+json": {
       "model_id": "b6235cd9ba0c44c3936dabf972de34ee",
       "version_major": 2,
       "version_minor": 0
      },
      "text/plain": [
       "MolecularViewer(height=500, width=500)"
      ]
     },
     "metadata": {},
     "output_type": "display_data"
    }
   ],
   "source": [
    "v"
   ]
  },
  {
   "cell_type": "code",
   "execution_count": null,
   "id": "8f2279a1",
   "metadata": {},
   "outputs": [],
   "source": []
  }
 ],
 "metadata": {
  "kernelspec": {
   "display_name": "Python 3 (ipykernel)",
   "language": "python",
   "name": "python3"
  },
  "language_info": {
   "codemirror_mode": {
    "name": "ipython",
    "version": 3
   },
   "file_extension": ".py",
   "mimetype": "text/x-python",
   "name": "python",
   "nbconvert_exporter": "python",
   "pygments_lexer": "ipython3",
   "version": "3.8.12"
  }
 },
 "nbformat": 4,
 "nbformat_minor": 5
}
