{
 "cells": [
  {
   "cell_type": "code",
   "execution_count": 2,
   "id": "e732bc5d",
   "metadata": {},
   "outputs": [],
   "source": [
    "import pandas as pd\n",
    "import numpy as np\n",
    "\n",
    "import tensorflow as tf\n",
    "from xgboost import XGBClassifier\n",
    "\n",
    "from sklearn.tree import DecisionTreeClassifier\n",
    "from sklearn.model_selection import train_test_split\n",
    "\n",
    "import pymatgen\n",
    "\n",
    "from functions.prepare_data_and_sub import prepare_dataset, make_prediction, energy_within_threshold\n",
    "from functions.strusture_analysis import decompose, find_differ_sites\n",
    "\n",
    "from functions.prepare_data_and_sub import read_pymatgen_dict\n",
    "\n",
    "ideal_structure = read_pymatgen_dict('ideal_structure.json')\n",
    "ideal_structure_sites = ideal_structure.sites\n",
    "\n",
    "data = prepare_dataset('data/dichalcogenides_public/')\n",
    "data['decomposition'] = data.structures.apply(decompose)\n",
    "data = classificate_decomposition(data)\n",
    "data['representative'] = data['structures'].apply(lambda x: find_differ_sites(x.sites, ideal_structure_sites))\n",
    "\n",
    "\n",
    "test = prepare_dataset('data/dichalcogenides_private/', train=False)\n",
    "test['decomposition'] = test.structures.apply(decompose)\n",
    "test = classificate_decomposition(test)\n",
    "test['representative'] = test['structures'].apply(lambda x: find_differ_sites(x.sites, ideal_structure_sites))"
   ]
  },
  {
   "cell_type": "code",
   "execution_count": 2,
   "id": "0272c2d1-ad27-4b28-86de-3db3bd35b771",
   "metadata": {},
   "outputs": [],
   "source": [
    "import matplotlib.pyplot as plt\n",
    "import numpy as np\n",
    "import pandas as pd\n",
    "from xgboost import XGBClassifier, XGBRegressor\n",
    "from functions.features import distance_features"
   ]
  },
  {
   "cell_type": "code",
   "execution_count": 168,
   "id": "88d91d87-e449-43b7-b34a-dcebc31b95c8",
   "metadata": {},
   "outputs": [],
   "source": [
    "import warnings\n",
    "warnings.filterwarnings(\"ignore\")"
   ]
  },
  {
   "cell_type": "code",
   "execution_count": 4,
   "id": "f9877c47-8433-47eb-936c-ff71acf9b1a3",
   "metadata": {},
   "outputs": [],
   "source": [
    "def classificate_class_big(target, n):\n",
    "    if n == 3:\n",
    "        if target >= 1.07 and target <= 1.13:\n",
    "            return 1\n",
    "        if target >= 0.985 and target <= 1.06:\n",
    "            return 2\n",
    "        if target >= 0.93 and target <= 0.97:\n",
    "            return 3\n",
    "        if target >= 0.635 and target <= 0.675:\n",
    "            return 4\n",
    "        return 0\n",
    "    else:\n",
    "        if target >= 0.38 and target <= 0.44:\n",
    "            return 1\n",
    "        if target >= 0.34 and target <= 0.37:\n",
    "            return 2\n",
    "        if target >= 0.25 and target <= 0.32:\n",
    "            return 3\n",
    "        return 0"
   ]
  },
  {
   "cell_type": "code",
   "execution_count": 263,
   "id": "bd9052f9-1252-44bd-84ae-adb2bcecdf70",
   "metadata": {},
   "outputs": [
    {
     "name": "stdout",
     "output_type": "stream",
     "text": [
      "380\n",
      "[14:35:14] WARNING: ../src/learner.cc:1115: Starting in XGBoost 1.3.0, the default evaluation metric used with the objective 'multi:softprob' was changed from 'merror' to 'mlogloss'. Explicitly set eval_metric if you'd like to restore the old behavior.\n",
      "0.9444444444444444\n",
      "[14:35:14] WARNING: ../src/learner.cc:1115: Starting in XGBoost 1.3.0, the default evaluation metric used with the objective 'multi:softprob' was changed from 'merror' to 'mlogloss'. Explicitly set eval_metric if you'd like to restore the old behavior.\n",
      "0.9523809523809523\n",
      "0.1223458 0.11004648677248677\n"
     ]
    }
   ],
   "source": [
    "n = 3\n",
    "class_n = data[data.class_of_decomposition == n].copy()\n",
    "print(len(class_n))\n",
    "class_n_test = test[test.class_of_decomposition == n].copy()\n",
    "\n",
    "class_n['group'] = class_n['targets'].apply(lambda x: classificate_class_big(x, n))\n",
    "class_n = class_n[class_n.group != 0]\n",
    "\n",
    "class_n = distance_features(class_n)\n",
    "class_n_test = distance_features(class_n_test)\n",
    "\n",
    "for i in range(3):\n",
    "    class_n['dist' + str(i+1)] = class_n[['Mo_S_dist', 'S_Se_dist', 'Mo_Se_dist']].apply(lambda row: sorted(row)[i], axis=1)\n",
    "    class_n_test['dist' + str(i+1)] = class_n_test[['Mo_S_dist', 'S_Se_dist', 'Mo_Se_dist']].apply(lambda row: sorted(row)[i], axis=1)\n",
    "\n",
    "X_train, X_test, y_train, y_test = train_test_split(class_n, class_n['group'], test_size=0.33, random_state=42)\n",
    "\n",
    "feature_list = ['dist1', 'dist2', 'dist3']  \n",
    "n_estim_clf = 14\n",
    "clf = XGBClassifier(n_estimators=n_estim_clf, random_state=0xC0FFEE)\n",
    "clf.fit(X_train[feature_list], y_train)\n",
    "\n",
    "class_n_predict_target = clf.predict(X_test[feature_list])\n",
    "acc1 = sum(class_n_predict_target == y_test) / len(y_test)\n",
    "print(acc1)\n",
    "\n",
    "clf.fit(class_n[feature_list], class_n['group'])\n",
    "class_n_test['group'] = clf.predict(class_n_test[feature_list])\n",
    "\n",
    "X_train, X_test, y_train, y_test = train_test_split(class_n, class_n['targets'], test_size=0.33, random_state=42)\n",
    "\n",
    "feature_list = ['dist1', 'dist2', 'dist3', 'group']\n",
    "n_estim_reg = 14\n",
    "reg = XGBRegressor(n_estimators=n_estim_reg, random_state=0xC0FFEE)\n",
    "\n",
    "reg.fit(X_train[feature_list], y_train)\n",
    "\n",
    "class_n_predict_target = reg.predict(X_test[feature_list])\n",
    "acc2 = energy_within_threshold(class_n_predict_target, y_test)\n",
    "print(acc2)\n",
    "best_val = [0.12908662, 0.23559151, 0.24031008, 0.1223458,  0.12335693, 0.1280755 ]\n",
    "print(best_val[n], best_val[n] * acc1 * acc2)\n",
    "\n",
    "# reg.fit(class_n[feature_list], class_n['targets'])\n",
    "# class_n_predict_target = reg.predict(class_n_test[feature_list])\n",
    "# prediction = pd.read_csv('submission.csv', index_col=0)\n",
    "# prediction.loc[~(test.class_of_decomposition == n), 'predictions'] = -1\n",
    "# prediction.loc[(test.class_of_decomposition == n), 'predictions'] = class_n_predict_target\n",
    "\n",
    "# prediction.to_csv(f'submissions/class{n}_clf{n_estim_clf}_reg_{n_estim_reg}.csv', index_label='id')"
   ]
  },
  {
   "cell_type": "code",
   "execution_count": 313,
   "id": "b3a10962-06bd-4798-b374-e091187c6a0f",
   "metadata": {},
   "outputs": [
    {
     "name": "stdout",
     "output_type": "stream",
     "text": [
      "377\n",
      "2 0.8842975206611571\n"
     ]
    },
    {
     "data": {
      "image/png": "[encoded data removed]",
      "text/plain": [
       "<Figure size 432x288 with 1 Axes>"
      ]
     },
     "metadata": {
      "needs_background": "light"
     },
     "output_type": "display_data"
    },
    {
     "name": "stdout",
     "output_type": "stream",
     "text": [
      "15 1.0\n"
     ]
    },
    {
     "data": {
      "text/plain": [
       "[<matplotlib.lines.Line2D at 0x7f1031f0ae20>]"
      ]
     },
     "execution_count": 313,
     "metadata": {},
     "output_type": "execute_result"
    },
    {
     "data": {
      "image/png": "[encoded data removed]",
      "text/plain": [
       "<Figure size 432x288 with 1 Axes>"
      ]
     },
     "metadata": {
      "needs_background": "light"
     },
     "output_type": "display_data"
    }
   ],
   "source": [
    "n = 4\n",
    "class_n = data[data.class_of_decomposition == n].copy()\n",
    "print(len(class_n))\n",
    "\n",
    "class_n['group'] = class_n[['targets', 'class_of_decomposition']].apply(lambda row: classificate_class_big(row['targets'], row['class_of_decomposition']), axis=1)\n",
    "class_n = class_n[class_n.group != 0]\n",
    "\n",
    "class_n = distance_features(class_n)\n",
    "\n",
    "for i in range(3):\n",
    "    class_n['dist' + str(i+1)] = class_n[['Mo_S_dist', 'S_Se_dist', 'Mo_Se_dist']].apply(lambda row: sorted(row)[i], axis=1)\n",
    "\n",
    "X_train, X_test, y_train, y_test = train_test_split(class_n, class_n['group'], test_size=0.33, random_state=42)\n",
    "\n",
    "clf_results = []\n",
    "n_estim_clf_list = np.arange(1, 100)\n",
    "feature_list = ['dist1', 'dist2', 'dist3']  \n",
    "for n_estim_clf in n_estim_clf_list:\n",
    "    clf = XGBClassifier(n_estimators=n_estim_clf, random_state=0xC0FFEE, eval_metric='mlogloss')\n",
    "    clf.fit(X_train[feature_list], y_train)\n",
    "\n",
    "    class_n_predict_target = clf.predict(X_test[feature_list])\n",
    "    acc1 = sum(class_n_predict_target == y_test) / len(y_test)\n",
    "    clf_results.append(acc1)\n",
    "    \n",
    "print(n_estim_clf_list[np.argmax(clf_results)], clf_results[np.argmax(clf_results)])\n",
    "plt.plot(n_estim_clf_list, clf_results)\n",
    "plt.show()\n",
    "\n",
    "feature_list = ['dist1', 'dist2', 'dist3', 'group']\n",
    "X_train, X_test, y_train, y_test = train_test_split(class_n, class_n['group'], test_size=0.33, random_state=42)\n",
    "\n",
    "reg_results = []\n",
    "n_estim_reg_list = np.arange(1, 100)\n",
    "for n_estim_reg in n_estim_reg_list:\n",
    "    reg = XGBRegressor(n_estimators=n_estim_reg, random_state=0xC0FFEE)\n",
    "    reg.fit(X_train[feature_list], y_train)\n",
    "\n",
    "    class_n_predict_target = reg.predict(X_test[feature_list])\n",
    "    acc2 = energy_within_threshold(class_n_predict_target, y_test)\n",
    "    reg_results.append(acc2)\n",
    "    \n",
    "print(n_estim_reg_list[np.argmax(reg_results)], reg_results[np.argmax(reg_results)])\n",
    "plt.plot(n_estim_reg_list, reg_results)"
   ]
  },
  {
   "cell_type": "code",
   "execution_count": 320,
   "id": "860fd8c8-5191-4d59-94fc-a08d05768bbf",
   "metadata": {},
   "outputs": [
    {
     "name": "stdout",
     "output_type": "stream",
     "text": [
      "377\n",
      "[16:13:39] WARNING: ../src/learner.cc:1115: Starting in XGBoost 1.3.0, the default evaluation metric used with the objective 'multi:softprob' was changed from 'merror' to 'mlogloss'. Explicitly set eval_metric if you'd like to restore the old behavior.\n",
      "0.8842975206611571\n",
      "[16:13:39] WARNING: ../src/learner.cc:1115: Starting in XGBoost 1.3.0, the default evaluation metric used with the objective 'multi:softprob' was changed from 'merror' to 'mlogloss'. Explicitly set eval_metric if you'd like to restore the old behavior.\n",
      "0.9586776859504132\n",
      "0.12335693 0.10457661465473671\n"
     ]
    }
   ],
   "source": [
    "n = 4\n",
    "class_n = data[data.class_of_decomposition == n].copy()\n",
    "print(len(class_n))\n",
    "class_n_test = test[test.class_of_decomposition == n].copy()\n",
    "\n",
    "class_n['group'] = class_n[['targets', 'class_of_decomposition']].apply(lambda row: classificate_class_big(row['targets'], row['class_of_decomposition']), axis=1)\n",
    "class_n = class_n[class_n.group != 0]\n",
    "\n",
    "class_n = distance_features(class_n)\n",
    "class_n_test = distance_features(class_n_test)\n",
    "\n",
    "for i in range(3):\n",
    "    class_n['dist' + str(i+1)] = class_n[['Mo_S_dist', 'S_Se_dist', 'Mo_Se_dist']].apply(lambda row: sorted(row)[i], axis=1)\n",
    "    class_n_test['dist' + str(i+1)] = class_n_test[['Mo_S_dist', 'S_Se_dist', 'Mo_Se_dist']].apply(lambda row: sorted(row)[i], axis=1)\n",
    "\n",
    "    \n",
    "########### CLASSIFICATION\n",
    "X_train, X_test, y_train, y_test = train_test_split(class_n, class_n['group'], test_size=0.33, random_state=42)\n",
    "\n",
    "feature_list = ['dist1', 'dist2', 'dist3']  \n",
    "n_estim_clf = 10\n",
    "clf = XGBClassifier(n_estimators=n_estim_clf, random_state=0xC0FFEE)\n",
    "clf.fit(X_train[feature_list], y_train)\n",
    "\n",
    "class_n_predict_target = clf.predict(X_test[feature_list])\n",
    "acc1 = sum(class_n_predict_target == y_test) / len(y_test)\n",
    "print(acc1)\n",
    "\n",
    "clf.fit(class_n[feature_list], class_n['group'])\n",
    "class_n_test['group'] = clf.predict(class_n_test[feature_list])\n",
    "\n",
    "########### REGRESSION\n",
    "X_train, X_test, y_train, y_test = train_test_split(class_n, class_n['targets'], test_size=0.33, random_state=42)\n",
    "\n",
    "feature_list = ['dist1', 'dist2', 'dist3', 'group']\n",
    "n_estim_reg = 15\n",
    "reg = XGBRegressor(n_estimators=n_estim_reg, random_state=0xC0FFEE)\n",
    "\n",
    "reg.fit(X_train[feature_list], y_train)\n",
    "class_n_predict_target = reg.predict(X_test[feature_list])\n",
    "acc2 = energy_within_threshold(class_n_predict_target, y_test)\n",
    "print(acc2)\n",
    "best_val = [0.12908662, 0.23559151, 0.24031008, 0.1223458,  0.12335693, 0.1280755 ]\n",
    "print(best_val[n], best_val[n] * acc1 * acc2)\n",
    "\n",
    "reg.fit(class_n[feature_list], class_n['targets'])\n",
    "class_n_predict_target = reg.predict(class_n_test[feature_list])\n",
    "\n",
    "########### MAKE SUBMISSION\n",
    "prediction = pd.read_csv('submission.csv', index_col=0)\n",
    "prediction['predictions'] = -1\n",
    "prediction.loc[test.class_of_decomposition == n, 'predictions'] = class_n_predict_target\n",
    "\n",
    "prediction.to_csv(f'submissions/class{n}_clf{n_estim_clf}_reg_{n_estim_reg}.csv', index_label='id')"
   ]
  },
  {
   "cell_type": "code",
   "execution_count": 310,
   "id": "98ba52f4-e6c6-40b9-bd6b-9ce96c154274",
   "metadata": {},
   "outputs": [
    {
     "name": "stdout",
     "output_type": "stream",
     "text": [
      "363\n",
      "12 0.7565217391304347\n"
     ]
    },
    {
     "data": {
      "image/png": "[encoded data removed]",
      "text/plain": [
       "<Figure size 432x288 with 1 Axes>"
      ]
     },
     "metadata": {
      "needs_background": "light"
     },
     "output_type": "display_data"
    },
    {
     "name": "stdout",
     "output_type": "stream",
     "text": [
      "14 1.0\n"
     ]
    },
    {
     "data": {
      "text/plain": [
       "[<matplotlib.lines.Line2D at 0x7f103185d070>]"
      ]
     },
     "execution_count": 310,
     "metadata": {},
     "output_type": "execute_result"
    },
    {
     "data": {
      "image/png": "[encoded data removed]",
      "text/plain": [
       "<Figure size 432x288 with 1 Axes>"
      ]
     },
     "metadata": {
      "needs_background": "light"
     },
     "output_type": "display_data"
    }
   ],
   "source": [
    "n = 5\n",
    "class_n = data[data.class_of_decomposition == n].copy()\n",
    "print(len(class_n))\n",
    "\n",
    "class_n['group'] = class_n[['targets', 'class_of_decomposition']].apply(lambda row: classificate_class_big(row['targets'], row['class_of_decomposition']), axis=1)\n",
    "class_n = class_n[class_n.group != 0]\n",
    "\n",
    "class_n = distance_features(class_n)\n",
    "\n",
    "for i in range(3):\n",
    "    class_n['dist' + str(i+1)] = class_n[['Mo_S_dist', 'S_Se_dist', 'Mo_Se_dist']].apply(lambda row: sorted(row)[i], axis=1)\n",
    "\n",
    "X_train, X_test, y_train, y_test = train_test_split(class_n, class_n['group'], test_size=0.33, random_state=42)\n",
    "\n",
    "clf_results = []\n",
    "n_estim_clf_list = np.arange(1, 100)\n",
    "feature_list = ['dist1', 'dist2', 'dist3']  \n",
    "for n_estim_clf in n_estim_clf_list:\n",
    "    clf = XGBClassifier(n_estimators=n_estim_clf, random_state=0xC0FFEE, eval_metric='mlogloss')\n",
    "    clf.fit(X_train[feature_list], y_train)\n",
    "\n",
    "    class_n_predict_target = clf.predict(X_test[feature_list])\n",
    "    acc1 = sum(class_n_predict_target == y_test) / len(y_test)\n",
    "    clf_results.append(acc1)\n",
    "    \n",
    "print(n_estim_clf_list[np.argmax(clf_results)], clf_results[np.argmax(clf_results)])\n",
    "plt.plot(n_estim_clf_list, clf_results)\n",
    "plt.show()\n",
    "\n",
    "feature_list = ['dist1', 'dist2', 'dist3', 'group']\n",
    "X_train, X_test, y_train, y_test = train_test_split(class_n, class_n['group'], test_size=0.33, random_state=42)\n",
    "\n",
    "reg_results = []\n",
    "n_estim_reg_list = np.arange(1, 100)\n",
    "for n_estim_reg in n_estim_reg_list:\n",
    "    reg = XGBRegressor(n_estimators=n_estim_reg, random_state=0xC0FFEE)\n",
    "    reg.fit(X_train[feature_list], y_train)\n",
    "\n",
    "    class_n_predict_target = reg.predict(X_test[feature_list])\n",
    "    acc2 = energy_within_threshold(class_n_predict_target, y_test)\n",
    "    reg_results.append(acc2)\n",
    "    \n",
    "print(n_estim_reg_list[np.argmax(reg_results)], reg_results[np.argmax(reg_results)])\n",
    "plt.plot(n_estim_reg_list, reg_results)"
   ]
  },
  {
   "cell_type": "code",
   "execution_count": 322,
   "id": "2d8f513d-297d-4682-a320-3b3e379ba30b",
   "metadata": {},
   "outputs": [
    {
     "name": "stdout",
     "output_type": "stream",
     "text": [
      "363\n",
      "[16:14:15] WARNING: ../src/learner.cc:1115: Starting in XGBoost 1.3.0, the default evaluation metric used with the objective 'multi:softprob' was changed from 'merror' to 'mlogloss'. Explicitly set eval_metric if you'd like to restore the old behavior.\n",
      "0.7565217391304347\n",
      "[16:14:15] WARNING: ../src/learner.cc:1115: Starting in XGBoost 1.3.0, the default evaluation metric used with the objective 'multi:softprob' was changed from 'merror' to 'mlogloss'. Explicitly set eval_metric if you'd like to restore the old behavior.\n",
      "0.9043478260869565\n",
      "0.1280755 0.08762397913043478\n"
     ]
    }
   ],
   "source": [
    "n = 5\n",
    "class_n = data[data.class_of_decomposition == n].copy()\n",
    "print(len(class_n))\n",
    "class_n_test = test[test.class_of_decomposition == n].copy()\n",
    "\n",
    "class_n['group'] = class_n[['targets', 'class_of_decomposition']].apply(lambda row: classificate_class_big(row['targets'], row['class_of_decomposition']), axis=1)\n",
    "class_n = class_n[class_n.group != 0]\n",
    "\n",
    "class_n = distance_features(class_n)\n",
    "class_n_test = distance_features(class_n_test)\n",
    "\n",
    "for i in range(3):\n",
    "    class_n['dist' + str(i+1)] = class_n[['Mo_S_dist', 'S_Se_dist', 'Mo_Se_dist']].apply(lambda row: sorted(row)[i], axis=1)\n",
    "    class_n_test['dist' + str(i+1)] = class_n_test[['Mo_S_dist', 'S_Se_dist', 'Mo_Se_dist']].apply(lambda row: sorted(row)[i], axis=1)\n",
    "\n",
    "    \n",
    "########### CLASSIFICATION\n",
    "X_train, X_test, y_train, y_test = train_test_split(class_n, class_n['group'], test_size=0.33, random_state=42)\n",
    "\n",
    "feature_list = ['dist1', 'dist2', 'dist3']  \n",
    "n_estim_clf = 12\n",
    "clf = XGBClassifier(n_estimators=n_estim_clf, random_state=0xC0FFEE)\n",
    "clf.fit(X_train[feature_list], y_train)\n",
    "\n",
    "class_n_predict_target = clf.predict(X_test[feature_list])\n",
    "acc1 = sum(class_n_predict_target == y_test) / len(y_test)\n",
    "print(acc1)\n",
    "\n",
    "clf.fit(class_n[feature_list], class_n['group'])\n",
    "class_n_test['group'] = clf.predict(class_n_test[feature_list])\n",
    "\n",
    "########### REGRESSION\n",
    "X_train, X_test, y_train, y_test = train_test_split(class_n, class_n['targets'], test_size=0.33, random_state=42)\n",
    "\n",
    "feature_list = ['dist1', 'dist2', 'dist3', 'group']\n",
    "n_estim_reg = 14\n",
    "reg = XGBRegressor(n_estimators=n_estim_reg, random_state=0xC0FFEE)\n",
    "\n",
    "reg.fit(X_train[feature_list], y_train)\n",
    "class_n_predict_target = reg.predict(X_test[feature_list])\n",
    "acc2 = energy_within_threshold(class_n_predict_target, y_test)\n",
    "print(acc2)\n",
    "best_val = [0.12908662, 0.23559151, 0.24031008, 0.1223458,  0.12335693, 0.1280755 ]\n",
    "print(best_val[n], best_val[n] * acc1 * acc2)\n",
    "\n",
    "reg.fit(class_n[feature_list], class_n['targets'])\n",
    "class_n_predict_target = reg.predict(class_n_test[feature_list])\n",
    "\n",
    "########### MAKE SUBMISSION\n",
    "prediction = pd.read_csv('submission.csv', index_col=0)\n",
    "prediction['predictions'] = -1\n",
    "prediction.loc[test.class_of_decomposition == n, 'predictions'] = class_n_predict_target\n",
    "\n",
    "prediction.to_csv(f'submissions/class{n}_clf{n_estim_clf}_reg_{n_estim_reg}.csv', index_label='id')"
   ]
  },
  {
   "cell_type": "code",
   "execution_count": 323,
   "id": "d7f58276-9359-46f3-880d-06352da6e819",
   "metadata": {},
   "outputs": [
    {
     "name": "stdout",
     "output_type": "stream",
     "text": [
      "1065\n",
      "5 0.7360703812316716\n"
     ]
    },
    {
     "data": {
      "image/png": "[encoded data removed]",
      "text/plain": [
       "<Figure size 432x288 with 1 Axes>"
      ]
     },
     "metadata": {
      "needs_background": "light"
     },
     "output_type": "display_data"
    },
    {
     "name": "stdout",
     "output_type": "stream",
     "text": [
      "14 1.0\n"
     ]
    },
    {
     "data": {
      "text/plain": [
       "[<matplotlib.lines.Line2D at 0x7f103144d040>]"
      ]
     },
     "execution_count": 323,
     "metadata": {},
     "output_type": "execute_result"
    },
    {
     "data": {
      "image/png": "[encoded data removed]",
      "text/plain": [
       "<Figure size 432x288 with 1 Axes>"
      ]
     },
     "metadata": {
      "needs_background": "light"
     },
     "output_type": "display_data"
    }
   ],
   "source": [
    "n = 25\n",
    "class_n = data[(data.class_of_decomposition == 2) | (data.class_of_decomposition == 5)].copy()\n",
    "print(len(class_n))\n",
    "\n",
    "class_n['group'] = class_n[['targets', 'class_of_decomposition']].apply(lambda row: classificate_class_big(row['targets'], row['class_of_decomposition']), axis=1)\n",
    "class_n = class_n[class_n.group != 0]\n",
    "\n",
    "class_n = distance_features(class_n)\n",
    "\n",
    "for i in range(3):\n",
    "    class_n['dist' + str(i+1)] = class_n[['Mo_S_dist', 'S_Se_dist', 'Mo_Se_dist']].apply(lambda row: sorted(row)[i], axis=1)\n",
    "\n",
    "X_train, X_test, y_train, y_test = train_test_split(class_n, class_n['group'], test_size=0.33, random_state=42)\n",
    "\n",
    "clf_results = []\n",
    "n_estim_clf_list = np.arange(1, 100)\n",
    "feature_list = ['dist1', 'dist2', 'dist3']  \n",
    "for n_estim_clf in n_estim_clf_list:\n",
    "    clf = XGBClassifier(n_estimators=n_estim_clf, random_state=0xC0FFEE, eval_metric='mlogloss')\n",
    "    clf.fit(X_train[feature_list], y_train)\n",
    "\n",
    "    class_n_predict_target = clf.predict(X_test[feature_list])\n",
    "    acc1 = sum(class_n_predict_target == y_test) / len(y_test)\n",
    "    clf_results.append(acc1)\n",
    "    \n",
    "print(n_estim_clf_list[np.argmax(clf_results)], clf_results[np.argmax(clf_results)])\n",
    "plt.plot(n_estim_clf_list, clf_results)\n",
    "plt.show()\n",
    "\n",
    "feature_list = ['dist1', 'dist2', 'dist3', 'group']\n",
    "X_train, X_test, y_train, y_test = train_test_split(class_n, class_n['group'], test_size=0.33, random_state=42)\n",
    "\n",
    "reg_results = []\n",
    "n_estim_reg_list = np.arange(1, 100)\n",
    "for n_estim_reg in n_estim_reg_list:\n",
    "    reg = XGBRegressor(n_estimators=n_estim_reg, random_state=0xC0FFEE)\n",
    "    reg.fit(X_train[feature_list], y_train)\n",
    "\n",
    "    class_n_predict_target = reg.predict(X_test[feature_list])\n",
    "    acc2 = energy_within_threshold(class_n_predict_target, y_test)\n",
    "    reg_results.append(acc2)\n",
    "    \n",
    "print(n_estim_reg_list[np.argmax(reg_results)], reg_results[np.argmax(reg_results)])\n",
    "plt.plot(n_estim_reg_list, reg_results)"
   ]
  },
  {
   "cell_type": "code",
   "execution_count": 326,
   "id": "efc0d35f-f66c-4b61-9155-1eee2425b22f",
   "metadata": {},
   "outputs": [
    {
     "name": "stdout",
     "output_type": "stream",
     "text": [
      "1065\n",
      "[16:44:10] WARNING: ../src/learner.cc:1115: Starting in XGBoost 1.3.0, the default evaluation metric used with the objective 'multi:softprob' was changed from 'merror' to 'mlogloss'. Explicitly set eval_metric if you'd like to restore the old behavior.\n",
      "0.7360703812316716\n",
      "[16:44:10] WARNING: ../src/learner.cc:1115: Starting in XGBoost 1.3.0, the default evaluation metric used with the objective 'multi:softprob' was changed from 'merror' to 'mlogloss'. Explicitly set eval_metric if you'd like to restore the old behavior.\n",
      "0.9237536656891495\n",
      "0.36838558 0.25048293257453924\n"
     ]
    }
   ],
   "source": [
    "n = 25\n",
    "class_n = data[(data.class_of_decomposition == 2) | (data.class_of_decomposition == 5)].copy()\n",
    "print(len(class_n))\n",
    "class_n_test = test[(test.class_of_decomposition == 2) | (test.class_of_decomposition == 5)].copy()\n",
    "\n",
    "class_n['group'] = class_n[['targets', 'class_of_decomposition']].apply(lambda row: classificate_class_big(row['targets'], row['class_of_decomposition']), axis=1)\n",
    "class_n = class_n[class_n.group != 0]\n",
    "\n",
    "class_n = distance_features(class_n)\n",
    "class_n_test = distance_features(class_n_test)\n",
    "\n",
    "for i in range(3):\n",
    "    class_n['dist' + str(i+1)] = class_n[['Mo_S_dist', 'S_Se_dist', 'Mo_Se_dist']].apply(lambda row: sorted(row)[i], axis=1)\n",
    "    class_n_test['dist' + str(i+1)] = class_n_test[['Mo_S_dist', 'S_Se_dist', 'Mo_Se_dist']].apply(lambda row: sorted(row)[i], axis=1)\n",
    "\n",
    "    \n",
    "########### CLASSIFICATION\n",
    "X_train, X_test, y_train, y_test = train_test_split(class_n, class_n['group'], test_size=0.33, random_state=42)\n",
    "\n",
    "feature_list = ['dist1', 'dist2', 'dist3']  \n",
    "n_estim_clf = 5\n",
    "clf = XGBClassifier(n_estimators=n_estim_clf, random_state=0xC0FFEE)\n",
    "clf.fit(X_train[feature_list], y_train)\n",
    "\n",
    "class_n_predict_target = clf.predict(X_test[feature_list])\n",
    "acc1 = sum(class_n_predict_target == y_test) / len(y_test)\n",
    "print(acc1)\n",
    "\n",
    "clf.fit(class_n[feature_list], class_n['group'])\n",
    "class_n_test['group'] = clf.predict(class_n_test[feature_list])\n",
    "\n",
    "########### REGRESSION\n",
    "X_train, X_test, y_train, y_test = train_test_split(class_n, class_n['targets'], test_size=0.33, random_state=42)\n",
    "\n",
    "feature_list = ['dist1', 'dist2', 'dist3', 'group']\n",
    "n_estim_reg = 14\n",
    "reg = XGBRegressor(n_estimators=n_estim_reg, random_state=0xC0FFEE)\n",
    "\n",
    "reg.fit(X_train[feature_list], y_train)\n",
    "class_n_predict_target = reg.predict(X_test[feature_list])\n",
    "acc2 = energy_within_threshold(class_n_predict_target, y_test)\n",
    "print(acc2)\n",
    "best_val = [0.12908662, 0.23559151, 0.24031008, 0.1223458,  0.12335693, 0.1280755 ]\n",
    "print(best_val[2] + best_val[5], (best_val[2] + best_val[5]) * acc1 * acc2)\n",
    "\n",
    "reg.fit(class_n[feature_list], class_n['targets'])\n",
    "class_n_predict_target = reg.predict(class_n_test[feature_list])\n",
    "\n",
    "########### MAKE SUBMISSION\n",
    "prediction = pd.read_csv('submission.csv', index_col=0)\n",
    "prediction['predictions'] = -1\n",
    "prediction.loc[(test.class_of_decomposition == 2) | (test.class_of_decomposition == 5), 'predictions'] = class_n_predict_target\n",
    "\n",
    "prediction.to_csv(f'submissions/class{n}_clf{n_estim_clf}_reg_{n_estim_reg}.csv', index_label='id')"
   ]
  },
  {
   "cell_type": "code",
   "execution_count": null,
   "id": "8601e677-7c37-4e69-be12-729b7c6135de",
   "metadata": {},
   "outputs": [],
   "source": []
  }
 ],
 "metadata": {
  "kernelspec": {
   "display_name": "Python 3",
   "language": "python",
   "name": "python3"
  },
  "language_info": {
   "codemirror_mode": {
    "name": "ipython",
    "version": 3
   },
   "file_extension": ".py",
   "mimetype": "text/x-python",
   "name": "python",
   "nbconvert_exporter": "python",
   "pygments_lexer": "ipython3",
   "version": "3.8.8"
  }
 },
 "nbformat": 4,
 "nbformat_minor": 5
}
