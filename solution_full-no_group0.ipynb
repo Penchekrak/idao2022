{
 "cells": [
  {
   "cell_type": "code",
   "execution_count": 1,
   "id": "b2662258",
   "metadata": {},
   "outputs": [],
   "source": [
    "import pandas as pd\n",
    "import numpy as np\n",
    "import matplotlib.pyplot as plt\n",
    "\n",
    "import tensorflow as tf\n",
    "\n",
    "\n",
    "from sklearn.tree import DecisionTreeClassifier\n",
    "from sklearn.model_selection import train_test_split\n",
    "\n",
    "import pymatgen\n",
    "\n",
    "from functions.prepare_data_and_sub import prepare_dataset, make_prediction, energy_within_threshold\n",
    "from functions.class2_features import unufication_class2, geometrical_features, distance_features\n",
    "from functions.classification import classificate_class2, classificate_class3, classificate_class4, classificate_class5\n",
    "from functions.classification import convert_group_to_target_class2, convert_group_to_target_class3, convert_group_to_target_class4, convert_group_to_target_class5\n",
    "from functions.strusture_analysis import decompose, make_masks, find_differ_sites, extract_ideal_structure"
   ]
  },
  {
   "cell_type": "code",
   "execution_count": 2,
   "id": "20389209",
   "metadata": {},
   "outputs": [
    {
     "data": {
      "application/vnd.jupyter.widget-view+json": {
       "model_id": "f1e05c46173746c1a422053b338c5d9a",
       "version_major": 2,
       "version_minor": 0
      },
      "text/plain": [
       "  0%|          | 0/380 [00:00<?, ?it/s]"
      ]
     },
     "metadata": {},
     "output_type": "display_data"
    }
   ],
   "source": [
    "data = prepare_dataset('data/dichalcogenides_public/')\n",
    "data['decomposition'] = data.structures.apply(decompose)\n",
    "mask_list = make_masks(data)\n",
    "ideal_structure_sites = extract_ideal_structure(data)  \n",
    "data['representative'] = data['structures'].apply(lambda x: find_differ_sites(x.sites, ideal_structure_sites))"
   ]
  },
  {
   "cell_type": "code",
   "execution_count": 3,
   "id": "e5613dff",
   "metadata": {},
   "outputs": [],
   "source": [
    "test = prepare_dataset('data/dichalcogenides_private/', train=False)\n",
    "test['decomposition'] = test.structures.apply(decompose)\n",
    "mask_list_test = make_masks(test)\n",
    "test['representative'] = test['structures'].apply(lambda x: find_differ_sites(x.sites, ideal_structure_sites))\n",
    "\n",
    "test = make_prediction(test, ideal_structure_sites, mask_list_test)"
   ]
  },
  {
   "cell_type": "markdown",
   "id": "9605e258",
   "metadata": {},
   "source": [
    "### Class2:"
   ]
  },
  {
   "cell_type": "code",
   "execution_count": 4,
   "id": "e5cdaa5c",
   "metadata": {},
   "outputs": [
    {
     "name": "stderr",
     "output_type": "stream",
     "text": [
      "/home/polli/IDAO-2022/functions/class2_features.py:5: SettingWithCopyWarning: \n",
      "A value is trying to be set on a copy of a slice from a DataFrame.\n",
      "Try using .loc[row_indexer,col_indexer] = value instead\n",
      "\n",
      "See the caveats in the documentation: https://pandas.pydata.org/pandas-docs/stable/user_guide/indexing.html#returning-a-view-versus-a-copy\n",
      "  sample['representative'] = sample['representative'].apply(lambda x: symmetry_transform_up(x.copy(), x[0].coords))\n",
      "/home/polli/IDAO-2022/functions/class2_features.py:6: SettingWithCopyWarning: \n",
      "A value is trying to be set on a copy of a slice from a DataFrame.\n",
      "Try using .loc[row_indexer,col_indexer] = value instead\n",
      "\n",
      "See the caveats in the documentation: https://pandas.pydata.org/pandas-docs/stable/user_guide/indexing.html#returning-a-view-versus-a-copy\n",
      "  sample['representative'] = sample['representative'].apply(lambda x: orange_closer(x.copy()))\n",
      "/home/polli/IDAO-2022/functions/class2_features.py:11: SettingWithCopyWarning: \n",
      "A value is trying to be set on a copy of a slice from a DataFrame.\n",
      "Try using .loc[row_indexer,col_indexer] = value instead\n",
      "\n",
      "See the caveats in the documentation: https://pandas.pydata.org/pandas-docs/stable/user_guide/indexing.html#returning-a-view-versus-a-copy\n",
      "  data['dist_to_diag_Mo'] = data['representative'].apply(lambda x: dist_to_diag(x[0].coords))\n",
      "/home/polli/IDAO-2022/functions/class2_features.py:12: SettingWithCopyWarning: \n",
      "A value is trying to be set on a copy of a slice from a DataFrame.\n",
      "Try using .loc[row_indexer,col_indexer] = value instead\n",
      "\n",
      "See the caveats in the documentation: https://pandas.pydata.org/pandas-docs/stable/user_guide/indexing.html#returning-a-view-versus-a-copy\n",
      "  data['dist_to_diag_S'] = data['representative'].apply(lambda x: dist_to_diag(x[1].coords))\n",
      "/home/polli/IDAO-2022/functions/class2_features.py:13: SettingWithCopyWarning: \n",
      "A value is trying to be set on a copy of a slice from a DataFrame.\n",
      "Try using .loc[row_indexer,col_indexer] = value instead\n",
      "\n",
      "See the caveats in the documentation: https://pandas.pydata.org/pandas-docs/stable/user_guide/indexing.html#returning-a-view-versus-a-copy\n",
      "  data['dist_to_diag_Se'] = data['representative'].apply(lambda x: dist_to_diag(x[2].coords))\n",
      "/home/polli/IDAO-2022/functions/class2_features.py:15: SettingWithCopyWarning: \n",
      "A value is trying to be set on a copy of a slice from a DataFrame.\n",
      "Try using .loc[row_indexer,col_indexer] = value instead\n",
      "\n",
      "See the caveats in the documentation: https://pandas.pydata.org/pandas-docs/stable/user_guide/indexing.html#returning-a-view-versus-a-copy\n",
      "  data['Mo_S_dist'] = data['representative'].apply(lambda x: np.linalg.norm(x[0].coords - x[1].coords)**0.5)\n",
      "/home/polli/IDAO-2022/functions/class2_features.py:16: SettingWithCopyWarning: \n",
      "A value is trying to be set on a copy of a slice from a DataFrame.\n",
      "Try using .loc[row_indexer,col_indexer] = value instead\n",
      "\n",
      "See the caveats in the documentation: https://pandas.pydata.org/pandas-docs/stable/user_guide/indexing.html#returning-a-view-versus-a-copy\n",
      "  data['S_Se_dist'] = data['representative'].apply(lambda x: np.linalg.norm(x[1].coords - x[2].coords)**0.5)\n",
      "/home/polli/IDAO-2022/functions/class2_features.py:17: SettingWithCopyWarning: \n",
      "A value is trying to be set on a copy of a slice from a DataFrame.\n",
      "Try using .loc[row_indexer,col_indexer] = value instead\n",
      "\n",
      "See the caveats in the documentation: https://pandas.pydata.org/pandas-docs/stable/user_guide/indexing.html#returning-a-view-versus-a-copy\n",
      "  data['Mo_Se_dist'] = data['representative'].apply(lambda x: np.linalg.norm(x[0].coords - x[2].coords)**0.5)\n",
      "/home/polli/IDAO-2022/functions/class2_features.py:25: SettingWithCopyWarning: \n",
      "A value is trying to be set on a copy of a slice from a DataFrame.\n",
      "Try using .loc[row_indexer,col_indexer] = value instead\n",
      "\n",
      "See the caveats in the documentation: https://pandas.pydata.org/pandas-docs/stable/user_guide/indexing.html#returning-a-view-versus-a-copy\n",
      "  data['Mo_coords_' + str(i)] = data['representative'].apply(lambda x: x[0].frac_coords[i])\n",
      "/home/polli/IDAO-2022/functions/class2_features.py:28: SettingWithCopyWarning: \n",
      "A value is trying to be set on a copy of a slice from a DataFrame.\n",
      "Try using .loc[row_indexer,col_indexer] = value instead\n",
      "\n",
      "See the caveats in the documentation: https://pandas.pydata.org/pandas-docs/stable/user_guide/indexing.html#returning-a-view-versus-a-copy\n",
      "  data['S_coords_' + str(i)] = data['representative'].apply(lambda x: x[1].frac_coords[i])\n",
      "/home/polli/IDAO-2022/functions/class2_features.py:31: SettingWithCopyWarning: \n",
      "A value is trying to be set on a copy of a slice from a DataFrame.\n",
      "Try using .loc[row_indexer,col_indexer] = value instead\n",
      "\n",
      "See the caveats in the documentation: https://pandas.pydata.org/pandas-docs/stable/user_guide/indexing.html#returning-a-view-versus-a-copy\n",
      "  data['Se_coords_' + str(i)] = data['representative'].apply(lambda x: x[2].frac_coords[i])\n",
      "/home/polli/IDAO-2022/functions/class2_features.py:33: SettingWithCopyWarning: \n",
      "A value is trying to be set on a copy of a slice from a DataFrame.\n",
      "Try using .loc[row_indexer,col_indexer] = value instead\n",
      "\n",
      "See the caveats in the documentation: https://pandas.pydata.org/pandas-docs/stable/user_guide/indexing.html#returning-a-view-versus-a-copy\n",
      "  data['M_is_boarder'] = data['representative'].apply(lambda x: is_boarder(x[0]))\n",
      "/home/polli/IDAO-2022/functions/class2_features.py:34: SettingWithCopyWarning: \n",
      "A value is trying to be set on a copy of a slice from a DataFrame.\n",
      "Try using .loc[row_indexer,col_indexer] = value instead\n",
      "\n",
      "See the caveats in the documentation: https://pandas.pydata.org/pandas-docs/stable/user_guide/indexing.html#returning-a-view-versus-a-copy\n",
      "  data['S_is_boarder'] = data['representative'].apply(lambda x: is_boarder(x[1]))\n",
      "/home/polli/IDAO-2022/functions/class2_features.py:35: SettingWithCopyWarning: \n",
      "A value is trying to be set on a copy of a slice from a DataFrame.\n",
      "Try using .loc[row_indexer,col_indexer] = value instead\n",
      "\n",
      "See the caveats in the documentation: https://pandas.pydata.org/pandas-docs/stable/user_guide/indexing.html#returning-a-view-versus-a-copy\n",
      "  data['Se_is_boarder'] = data['representative'].apply(lambda x: is_boarder(x[2]))\n",
      "/home/polli/IDAO-2022/functions/class2_features.py:36: SettingWithCopyWarning: \n",
      "A value is trying to be set on a copy of a slice from a DataFrame.\n",
      "Try using .loc[row_indexer,col_indexer] = value instead\n",
      "\n",
      "See the caveats in the documentation: https://pandas.pydata.org/pandas-docs/stable/user_guide/indexing.html#returning-a-view-versus-a-copy\n",
      "  data['M_is_boarder_0'] = data['M_is_boarder'] == 0\n",
      "/home/polli/IDAO-2022/functions/class2_features.py:37: SettingWithCopyWarning: \n",
      "A value is trying to be set on a copy of a slice from a DataFrame.\n",
      "Try using .loc[row_indexer,col_indexer] = value instead\n",
      "\n",
      "See the caveats in the documentation: https://pandas.pydata.org/pandas-docs/stable/user_guide/indexing.html#returning-a-view-versus-a-copy\n",
      "  data['M_is_boarder_1'] = data['M_is_boarder'] == 1\n",
      "/home/polli/IDAO-2022/functions/class2_features.py:38: SettingWithCopyWarning: \n",
      "A value is trying to be set on a copy of a slice from a DataFrame.\n",
      "Try using .loc[row_indexer,col_indexer] = value instead\n",
      "\n",
      "See the caveats in the documentation: https://pandas.pydata.org/pandas-docs/stable/user_guide/indexing.html#returning-a-view-versus-a-copy\n",
      "  data['S_is_boarder_0'] = data['S_is_boarder'] == 0\n",
      "/home/polli/IDAO-2022/functions/class2_features.py:39: SettingWithCopyWarning: \n",
      "A value is trying to be set on a copy of a slice from a DataFrame.\n",
      "Try using .loc[row_indexer,col_indexer] = value instead\n",
      "\n",
      "See the caveats in the documentation: https://pandas.pydata.org/pandas-docs/stable/user_guide/indexing.html#returning-a-view-versus-a-copy\n",
      "  data['S_is_boarder_1'] = data['S_is_boarder'] == 1\n",
      "/home/polli/IDAO-2022/functions/class2_features.py:40: SettingWithCopyWarning: \n",
      "A value is trying to be set on a copy of a slice from a DataFrame.\n",
      "Try using .loc[row_indexer,col_indexer] = value instead\n",
      "\n",
      "See the caveats in the documentation: https://pandas.pydata.org/pandas-docs/stable/user_guide/indexing.html#returning-a-view-versus-a-copy\n",
      "  data['Se_is_boarder_1'] = data['Se_is_boarder'] == 1\n",
      "/home/polli/IDAO-2022/functions/class2_features.py:41: SettingWithCopyWarning: \n",
      "A value is trying to be set on a copy of a slice from a DataFrame.\n",
      "Try using .loc[row_indexer,col_indexer] = value instead\n",
      "\n",
      "See the caveats in the documentation: https://pandas.pydata.org/pandas-docs/stable/user_guide/indexing.html#returning-a-view-versus-a-copy\n",
      "  data['Se_is_boarder_0'] = data['Se_is_boarder'] == 0\n"
     ]
    }
   ],
   "source": [
    "model = DecisionTreeClassifier(max_depth=15, random_state=13)\n",
    "\n",
    "class2 = data[mask_list[2]].copy()\n",
    "class2['group'] = class2['targets'].apply(classificate_class2)\n",
    "class2 = class2[class2.group != 0]\n",
    "\n",
    "class2 = unufication_class2(class2)\n",
    "class2 = geometrical_features(class2)\n",
    "\n",
    "test_class2 = unufication_class2(test[mask_list_test[2]])\n",
    "test_class2 = geometrical_features(test_class2)\n",
    "\n",
    "feature_list = ['Mo_S_dist', 'S_Se_dist', 'Mo_Se_dist']\n",
    "model.fit(class2[feature_list], class2['group'])\n",
    "\n",
    "class2_predict_group3 = model.predict(test_class2[feature_list])"
   ]
  },
  {
   "cell_type": "code",
   "execution_count": 5,
   "id": "ca4739d3",
   "metadata": {},
   "outputs": [],
   "source": [
    "class2 = class2[(class2.group == 2) | (class2.group == 1)]"
   ]
  },
  {
   "cell_type": "code",
   "execution_count": 6,
   "id": "ff3aa0c0",
   "metadata": {},
   "outputs": [
    {
     "name": "stdout",
     "output_type": "stream",
     "text": [
      "[17:08:03] WARNING: ../src/learner.cc:1115: Starting in XGBoost 1.3.0, the default evaluation metric used with the objective 'binary:logistic' was changed from 'error' to 'logloss'. Explicitly set eval_metric if you'd like to restore the old behavior.\n"
     ]
    },
    {
     "name": "stderr",
     "output_type": "stream",
     "text": [
      "/home/polli/anaconda3/lib/python3.8/site-packages/xgboost/sklearn.py:1224: UserWarning: The use of label encoder in XGBClassifier is deprecated and will be removed in a future release. To remove this warning, do the following: 1) Pass option use_label_encoder=False when constructing XGBClassifier object; and 2) Encode your labels (y) as integers starting with 0, i.e. 0, 1, 2, ..., [num_class - 1].\n",
      "  warnings.warn(label_encoder_deprecation_msg, UserWarning)\n"
     ]
    }
   ],
   "source": [
    "from xgboost import XGBClassifier\n",
    "\n",
    "feature_list = list(class2.columns[5:])\n",
    "\n",
    "model = XGBClassifier(n_estimators=45, random_state=0xC0FFEE)\n",
    "model.fit(class2[feature_list], class2['group'])\n",
    "class2_predict_group12 = model.predict(test_class2[feature_list])\n"
   ]
  },
  {
   "cell_type": "code",
   "execution_count": 7,
   "id": "8398d6b0",
   "metadata": {},
   "outputs": [],
   "source": [
    "class2_predict_group = class2_predict_group12\n",
    "class2_predict_group[class2_predict_group3 == 3] = 3\n",
    "\n",
    "predictions_class2 = list(map(convert_group_to_target_class2, class2_predict_group))\n",
    "test.loc[mask_list_test[2], 'predictions'] = predictions_class2"
   ]
  },
  {
   "cell_type": "markdown",
   "id": "6a45b6ae",
   "metadata": {},
   "source": [
    "### Class3:"
   ]
  },
  {
   "cell_type": "code",
   "execution_count": 10,
   "id": "0c583de6",
   "metadata": {},
   "outputs": [
    {
     "name": "stdout",
     "output_type": "stream",
     "text": [
      "[17:21:51] WARNING: ../src/learner.cc:1115: Starting in XGBoost 1.3.0, the default evaluation metric used with the objective 'multi:softprob' was changed from 'merror' to 'mlogloss'. Explicitly set eval_metric if you'd like to restore the old behavior.\n"
     ]
    }
   ],
   "source": [
    "class3 = data[mask_list[3]].copy()\n",
    "class3['group'] = class3['targets'].apply(classificate_class3)\n",
    "class3 = class3[class3.group != 0]\n",
    "class3 = distance_features(class3)\n",
    "\n",
    "test_class3 = test[mask_list_test[3]].copy()\n",
    "test_class3 = distance_features(test_class3)\n",
    "\n",
    "for i in range(3):\n",
    "    class3['dist' + str(i+1)] = class3[['Mo_S_dist', 'S_Se_dist', 'Mo_Se_dist']].apply(lambda row: sorted(row)[i], axis=1)\n",
    "    test_class3['dist' + str(i+1)] = test_class3[['Mo_S_dist', 'S_Se_dist', 'Mo_Se_dist']].apply(lambda row: sorted(row)[i], axis=1)\n",
    "    \n",
    "feature_list = ['dist1', 'dist2', 'dist3']\n",
    "model = XGBClassifier(n_estimators=10, random_state=0xC0FFEE)\n",
    "model.fit(class3[feature_list], class3['group'])\n",
    "\n",
    "class3_predict_group = model.predict(test_class3[feature_list])"
   ]
  },
  {
   "cell_type": "code",
   "execution_count": 11,
   "id": "a8f6ae1c",
   "metadata": {},
   "outputs": [],
   "source": [
    "predictions_class3 = list(map(convert_group_to_target_class3, class3_predict_group))\n",
    "test.loc[mask_list_test[3], 'predictions'] = predictions_class3"
   ]
  },
  {
   "cell_type": "markdown",
   "id": "a3c0ca6f",
   "metadata": {},
   "source": [
    "### Class4"
   ]
  },
  {
   "cell_type": "code",
   "execution_count": 37,
   "id": "57024f81",
   "metadata": {},
   "outputs": [
    {
     "name": "stdout",
     "output_type": "stream",
     "text": [
      "[17:28:34] WARNING: ../src/learner.cc:1115: Starting in XGBoost 1.3.0, the default evaluation metric used with the objective 'multi:softprob' was changed from 'merror' to 'mlogloss'. Explicitly set eval_metric if you'd like to restore the old behavior.\n"
     ]
    }
   ],
   "source": [
    "class4 = data[mask_list[4]].copy()\n",
    "class4['group'] = class4['targets'].apply(classificate_class4)\n",
    "class4 = class4[class4.group != 0]\n",
    "class4 = distance_features(class4)\n",
    "\n",
    "test_class4 = test[mask_list_test[4]].copy()\n",
    "test_class4 = distance_features(test_class4)\n",
    "\n",
    "for i in range(3):\n",
    "    class4['dist' + str(i+1)] = class4[['Mo_S_dist', 'S_Se_dist', 'Mo_Se_dist']].apply(lambda row: sorted(row)[i], axis=1)\n",
    "    test_class4['dist' + str(i+1)] = test_class4[['Mo_S_dist', 'S_Se_dist', 'Mo_Se_dist']].apply(lambda row: sorted(row)[i], axis=1)\n",
    "    \n",
    "feature_list = ['dist1', 'dist2', 'dist3']\n",
    "model = XGBClassifier(n_estimators=5, random_state=0xC0FFEE)\n",
    "model.fit(class4[feature_list], class4['group'])\n",
    "\n",
    "class4_predict_group = model.predict(test_class4[feature_list])"
   ]
  },
  {
   "cell_type": "code",
   "execution_count": 39,
   "id": "e23d979a",
   "metadata": {},
   "outputs": [],
   "source": [
    "predictions_class4 = list(map(convert_group_to_target_class4, class4_predict_group))\n",
    "test.loc[mask_list_test[4], 'predictions'] = predictions_class4"
   ]
  },
  {
   "cell_type": "markdown",
   "id": "240eba8f",
   "metadata": {},
   "source": [
    "### Class5"
   ]
  },
  {
   "cell_type": "code",
   "execution_count": 43,
   "id": "bb080f0c",
   "metadata": {},
   "outputs": [
    {
     "name": "stdout",
     "output_type": "stream",
     "text": [
      "[17:30:01] WARNING: ../src/learner.cc:1115: Starting in XGBoost 1.3.0, the default evaluation metric used with the objective 'multi:softprob' was changed from 'merror' to 'mlogloss'. Explicitly set eval_metric if you'd like to restore the old behavior.\n"
     ]
    }
   ],
   "source": [
    "class5 = data[mask_list[5]].copy()\n",
    "class5['group'] = class5['targets'].apply(classificate_class5)\n",
    "class5 = class5[class5.group != 0]\n",
    "class5 = distance_features(class5)\n",
    "\n",
    "test_class5 = test[mask_list_test[5]].copy()\n",
    "test_class5 = distance_features(test_class5)\n",
    "\n",
    "for i in range(3):\n",
    "    class5['dist' + str(i+1)] = class5[['Mo_S_dist', 'S_Se_dist', 'Mo_Se_dist']].apply(lambda row: sorted(row)[i], axis=1)\n",
    "    test_class5['dist' + str(i+1)] = test_class5[['Mo_S_dist', 'S_Se_dist', 'Mo_Se_dist']].apply(lambda row: sorted(row)[i], axis=1)\n",
    "    \n",
    "feature_list = ['dist1', 'dist2', 'dist3']\n",
    "model = XGBClassifier(n_estimators=5, random_state=0xC0FFEE)\n",
    "model.fit(class5[feature_list], class5['group'])\n",
    "\n",
    "class5_predict_group = model.predict(test_class5[feature_list])"
   ]
  },
  {
   "cell_type": "code",
   "execution_count": 44,
   "id": "9c3abf4a",
   "metadata": {},
   "outputs": [],
   "source": [
    "predictions_class5 = list(map(convert_group_to_target_class5, class5_predict_group))\n",
    "test.loc[mask_list_test[5], 'predictions'] = predictions_class5"
   ]
  },
  {
   "cell_type": "code",
   "execution_count": 47,
   "id": "ea652105",
   "metadata": {},
   "outputs": [
    {
     "data": {
      "text/plain": [
       "<matplotlib.collections.PathCollection at 0x7f05d43a5880>"
      ]
     },
     "execution_count": 47,
     "metadata": {},
     "output_type": "execute_result"
    },
    {
     "data": {
      "image/png": "[encoded data removed]",
      "text/plain": [
       "<Figure size 432x288 with 1 Axes>"
      ]
     },
     "metadata": {
      "needs_background": "light"
     },
     "output_type": "display_data"
    }
   ],
   "source": [
    "plt.scatter(np.arange(len(test)), test.predictions, s=1)"
   ]
  },
  {
   "cell_type": "markdown",
   "id": "f526a504",
   "metadata": {},
   "source": [
    "## Submission"
   ]
  },
  {
   "cell_type": "code",
   "execution_count": 48,
   "id": "d78b2d95",
   "metadata": {},
   "outputs": [],
   "source": [
    "test['predictions'].to_csv('best_submission_in_the_world_6classes.csv')"
   ]
  },
  {
   "cell_type": "code",
   "execution_count": null,
   "id": "a3625488",
   "metadata": {},
   "outputs": [],
   "source": [
    "# our_submission = test[['predictions']].copy()\n",
    "# baseline = pd.read_csv('submission.csv', index_col=0)\n",
    "\n",
    "# unite_sub = our_submission.join(baseline, lsuffix='_our', rsuffix='_bas')\n",
    "# unite_sub.loc[mask_list_test[0] | mask_list_test[1] | mask_list_test[2], 'predictions'] = unite_sub['predictions_our']\n",
    "# unite_sub.loc[~(mask_list_test[0] | mask_list_test[1] | mask_list_test[2]), 'predictions'] = unite_sub['predictions_bas']\n",
    "# unite_sub['predictions'].to_csv('best_submission_in_the_world1_full.csv')"
   ]
  },
  {
   "cell_type": "code",
   "execution_count": null,
   "id": "b7a69ff3",
   "metadata": {},
   "outputs": [],
   "source": []
  }
 ],
 "metadata": {
  "kernelspec": {
   "display_name": "Python 3",
   "language": "python",
   "name": "python3"
  },
  "language_info": {
   "codemirror_mode": {
    "name": "ipython",
    "version": 3
   },
   "file_extension": ".py",
   "mimetype": "text/x-python",
   "name": "python",
   "nbconvert_exporter": "python",
   "pygments_lexer": "ipython3",
   "version": "3.8.8"
  }
 },
 "nbformat": 4,
 "nbformat_minor": 5
}
