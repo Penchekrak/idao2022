{
 "cells": [
  {
   "cell_type": "code",
   "execution_count": 2,
   "id": "b9a800a1",
   "metadata": {},
   "outputs": [],
   "source": [
    "import pandas as pd\n",
    "import numpy as np\n",
    "import matplotlib.pyplot as plt\n",
    "\n",
    "import yaml\n",
    "import json\n",
    "\n",
    "import tensorflow as tf\n",
    "\n",
    "from pathlib import Path\n",
    "from pymatgen.core import Structure\n",
    "from sklearn.model_selection import train_test_split\n",
    "from megnet.models import MEGNetModel\n",
    "from megnet.data.crystal import CrystalGraph"
   ]
  },
  {
   "cell_type": "markdown",
   "id": "0190b75e",
   "metadata": {},
   "source": [
    "# Посмотрим на данные"
   ]
  },
  {
   "cell_type": "code",
   "execution_count": 5,
   "id": "cbb53f7d",
   "metadata": {},
   "outputs": [],
   "source": [
    "def read_pymatgen_dict(file):\n",
    "    with open(file, \"r\") as f:\n",
    "        d = json.load(f)\n",
    "    return Structure.from_dict(d)\n",
    "\n",
    "\n",
    "def prepare_dataset(dataset_path):\n",
    "    dataset_path = Path(dataset_path)\n",
    "#     targets = pd.read_csv(dataset_path / \"targets.csv\", index_col=0)\n",
    "    struct = {\n",
    "        item.name.strip(\".json\"): read_pymatgen_dict(item)\n",
    "        for item in (dataset_path / \"structures\").iterdir()\n",
    "    }\n",
    "\n",
    "    data = pd.DataFrame(columns=[\"structures\"], index=struct.keys())\n",
    "#     data = data.assign(structures=struct.values(), targets=targets)\n",
    "    data = data.assign(structures=struct.values())\n",
    "\n",
    "    return data"
   ]
  },
  {
   "cell_type": "code",
   "execution_count": 6,
   "id": "b4dac3ec",
   "metadata": {},
   "outputs": [
    {
     "data": {
      "text/html": [
       "<div>\n",
       "<style scoped>\n",
       "    .dataframe tbody tr th:only-of-type {\n",
       "        vertical-align: middle;\n",
       "    }\n",
       "\n",
       "    .dataframe tbody tr th {\n",
       "        vertical-align: top;\n",
       "    }\n",
       "\n",
       "    .dataframe thead th {\n",
       "        text-align: right;\n",
       "    }\n",
       "</style>\n",
       "<table border=\"1\" class=\"dataframe\">\n",
       "  <thead>\n",
       "    <tr style=\"text-align: right;\">\n",
       "      <th></th>\n",
       "      <th>structures</th>\n",
       "    </tr>\n",
       "  </thead>\n",
       "  <tbody>\n",
       "    <tr>\n",
       "      <th>6141cf244e27a1844a5f0016</th>\n",
       "      <td>[[1.27612629e-07 1.84192955e+00 3.71975100e+00...</td>\n",
       "    </tr>\n",
       "    <tr>\n",
       "      <th>614230b231cf3ef3d4a9f3a8</th>\n",
       "      <td>[[1.27612629e-07 1.84192955e+00 3.71975100e+00...</td>\n",
       "    </tr>\n",
       "    <tr>\n",
       "      <th>6142201aee0a3fd43fb47eb5</th>\n",
       "      <td>[[1.27612629e-07 1.84192955e+00 3.71975100e+00...</td>\n",
       "    </tr>\n",
       "    <tr>\n",
       "      <th>6141f69f4e27a1844a5f0490</th>\n",
       "      <td>[[1.27612629e-07 1.84192955e+00 3.71975100e+00...</td>\n",
       "    </tr>\n",
       "    <tr>\n",
       "      <th>6142d21f4e27a1844a5f0940</th>\n",
       "      <td>[[1.27612629e-07 1.84192955e+00 3.71975100e+00...</td>\n",
       "    </tr>\n",
       "    <tr>\n",
       "      <th>...</th>\n",
       "      <td>...</td>\n",
       "    </tr>\n",
       "    <tr>\n",
       "      <th>6141fd803ac25c70a5c6ca47</th>\n",
       "      <td>[[-1.59515772  4.604824    3.719751  ] Mo, [-3...</td>\n",
       "    </tr>\n",
       "    <tr>\n",
       "      <th>6142180cee0a3fd43fb47e89</th>\n",
       "      <td>[[1.27612629e-07 1.84192955e+00 3.71975100e+00...</td>\n",
       "    </tr>\n",
       "    <tr>\n",
       "      <th>6141e5a63ac25c70a5c6c9ab</th>\n",
       "      <td>[[1.27612629e-07 1.84192955e+00 3.71975100e+00...</td>\n",
       "    </tr>\n",
       "    <tr>\n",
       "      <th>6142463d4e27a1844a5f0722</th>\n",
       "      <td>[[1.27612629e-07 1.84192955e+00 3.71975100e+00...</td>\n",
       "    </tr>\n",
       "    <tr>\n",
       "      <th>6141d27231cf3ef3d4a9ee8e</th>\n",
       "      <td>[[1.27612629e-07 1.84192955e+00 3.71975100e+00...</td>\n",
       "    </tr>\n",
       "  </tbody>\n",
       "</table>\n",
       "<p>2967 rows × 1 columns</p>\n",
       "</div>"
      ],
      "text/plain": [
       "                                                                 structures\n",
       "6141cf244e27a1844a5f0016  [[1.27612629e-07 1.84192955e+00 3.71975100e+00...\n",
       "614230b231cf3ef3d4a9f3a8  [[1.27612629e-07 1.84192955e+00 3.71975100e+00...\n",
       "6142201aee0a3fd43fb47eb5  [[1.27612629e-07 1.84192955e+00 3.71975100e+00...\n",
       "6141f69f4e27a1844a5f0490  [[1.27612629e-07 1.84192955e+00 3.71975100e+00...\n",
       "6142d21f4e27a1844a5f0940  [[1.27612629e-07 1.84192955e+00 3.71975100e+00...\n",
       "...                                                                     ...\n",
       "6141fd803ac25c70a5c6ca47  [[-1.59515772  4.604824    3.719751  ] Mo, [-3...\n",
       "6142180cee0a3fd43fb47e89  [[1.27612629e-07 1.84192955e+00 3.71975100e+00...\n",
       "6141e5a63ac25c70a5c6c9ab  [[1.27612629e-07 1.84192955e+00 3.71975100e+00...\n",
       "6142463d4e27a1844a5f0722  [[1.27612629e-07 1.84192955e+00 3.71975100e+00...\n",
       "6141d27231cf3ef3d4a9ee8e  [[1.27612629e-07 1.84192955e+00 3.71975100e+00...\n",
       "\n",
       "[2967 rows x 1 columns]"
      ]
     },
     "execution_count": 6,
     "metadata": {},
     "output_type": "execute_result"
    }
   ],
   "source": [
    "data = prepare_dataset('data/dichalcogenides_private/')\n",
    "data"
   ]
  },
  {
   "cell_type": "markdown",
   "id": "6f03bbc2",
   "metadata": {},
   "source": [
    "# Получение хим состава"
   ]
  },
  {
   "cell_type": "code",
   "execution_count": 7,
   "id": "5eed68fe",
   "metadata": {},
   "outputs": [],
   "source": [
    "from collections import defaultdict\n",
    "\n",
    "def decompose(structure):\n",
    "    result = defaultdict(int)\n",
    "    for site in structure.sites:\n",
    "        result[site.species.formula] += 1\n",
    "    return result"
   ]
  },
  {
   "cell_type": "code",
   "execution_count": 8,
   "id": "fb382d70",
   "metadata": {},
   "outputs": [
    {
     "data": {
      "text/html": [
       "<div>\n",
       "<style scoped>\n",
       "    .dataframe tbody tr th:only-of-type {\n",
       "        vertical-align: middle;\n",
       "    }\n",
       "\n",
       "    .dataframe tbody tr th {\n",
       "        vertical-align: top;\n",
       "    }\n",
       "\n",
       "    .dataframe thead th {\n",
       "        text-align: right;\n",
       "    }\n",
       "</style>\n",
       "<table border=\"1\" class=\"dataframe\">\n",
       "  <thead>\n",
       "    <tr style=\"text-align: right;\">\n",
       "      <th></th>\n",
       "      <th>structures</th>\n",
       "      <th>decomposition</th>\n",
       "      <th>len_of_decomposition</th>\n",
       "    </tr>\n",
       "  </thead>\n",
       "  <tbody>\n",
       "    <tr>\n",
       "      <th>6141cf244e27a1844a5f0016</th>\n",
       "      <td>[[1.27612629e-07 1.84192955e+00 3.71975100e+00...</td>\n",
       "      <td>{'Mo1': 63, 'W1': 1, 'Se1': 1, 'S1': 126}</td>\n",
       "      <td>4</td>\n",
       "    </tr>\n",
       "    <tr>\n",
       "      <th>614230b231cf3ef3d4a9f3a8</th>\n",
       "      <td>[[1.27612629e-07 1.84192955e+00 3.71975100e+00...</td>\n",
       "      <td>{'Mo1': 63, 'Se1': 1, 'S1': 126}</td>\n",
       "      <td>3</td>\n",
       "    </tr>\n",
       "    <tr>\n",
       "      <th>6142201aee0a3fd43fb47eb5</th>\n",
       "      <td>[[1.27612629e-07 1.84192955e+00 3.71975100e+00...</td>\n",
       "      <td>{'Mo1': 63, 'Se1': 2, 'S1': 126}</td>\n",
       "      <td>3</td>\n",
       "    </tr>\n",
       "    <tr>\n",
       "      <th>6141f69f4e27a1844a5f0490</th>\n",
       "      <td>[[1.27612629e-07 1.84192955e+00 3.71975100e+00...</td>\n",
       "      <td>{'Mo1': 63, 'W1': 1, 'Se1': 1, 'S1': 126}</td>\n",
       "      <td>4</td>\n",
       "    </tr>\n",
       "    <tr>\n",
       "      <th>6142d21f4e27a1844a5f0940</th>\n",
       "      <td>[[1.27612629e-07 1.84192955e+00 3.71975100e+00...</td>\n",
       "      <td>{'Mo1': 63, 'W1': 1, 'Se1': 1, 'S1': 126}</td>\n",
       "      <td>4</td>\n",
       "    </tr>\n",
       "  </tbody>\n",
       "</table>\n",
       "</div>"
      ],
      "text/plain": [
       "                                                                 structures  \\\n",
       "6141cf244e27a1844a5f0016  [[1.27612629e-07 1.84192955e+00 3.71975100e+00...   \n",
       "614230b231cf3ef3d4a9f3a8  [[1.27612629e-07 1.84192955e+00 3.71975100e+00...   \n",
       "6142201aee0a3fd43fb47eb5  [[1.27612629e-07 1.84192955e+00 3.71975100e+00...   \n",
       "6141f69f4e27a1844a5f0490  [[1.27612629e-07 1.84192955e+00 3.71975100e+00...   \n",
       "6142d21f4e27a1844a5f0940  [[1.27612629e-07 1.84192955e+00 3.71975100e+00...   \n",
       "\n",
       "                                                      decomposition  \\\n",
       "6141cf244e27a1844a5f0016  {'Mo1': 63, 'W1': 1, 'Se1': 1, 'S1': 126}   \n",
       "614230b231cf3ef3d4a9f3a8           {'Mo1': 63, 'Se1': 1, 'S1': 126}   \n",
       "6142201aee0a3fd43fb47eb5           {'Mo1': 63, 'Se1': 2, 'S1': 126}   \n",
       "6141f69f4e27a1844a5f0490  {'Mo1': 63, 'W1': 1, 'Se1': 1, 'S1': 126}   \n",
       "6142d21f4e27a1844a5f0940  {'Mo1': 63, 'W1': 1, 'Se1': 1, 'S1': 126}   \n",
       "\n",
       "                          len_of_decomposition  \n",
       "6141cf244e27a1844a5f0016                     4  \n",
       "614230b231cf3ef3d4a9f3a8                     3  \n",
       "6142201aee0a3fd43fb47eb5                     3  \n",
       "6141f69f4e27a1844a5f0490                     4  \n",
       "6142d21f4e27a1844a5f0940                     4  "
      ]
     },
     "execution_count": 8,
     "metadata": {},
     "output_type": "execute_result"
    }
   ],
   "source": [
    "data['decomposition'] = data.structures.apply(decompose)\n",
    "data['len_of_decomposition'] = data['decomposition'].apply(len)\n",
    "\n",
    "data.head()"
   ]
  },
  {
   "cell_type": "code",
   "execution_count": 9,
   "id": "d6143348",
   "metadata": {},
   "outputs": [
    {
     "ename": "TypeError",
     "evalue": "unhashable type: 'collections.defaultdict'",
     "output_type": "error",
     "traceback": [
      "\u001b[0;31m---------------------------------------------------------------------------\u001b[0m",
      "\u001b[0;31mTypeError\u001b[0m                                 Traceback (most recent call last)",
      "\u001b[0;32mpandas/_libs/hashtable_class_helper.pxi\u001b[0m in \u001b[0;36mpandas._libs.hashtable.PyObjectHashTable.map_locations\u001b[0;34m()\u001b[0m\n",
      "\u001b[0;31mTypeError\u001b[0m: unhashable type: 'collections.defaultdict'"
     ]
    },
    {
     "name": "stderr",
     "output_type": "stream",
     "text": [
      "Exception ignored in: 'pandas._libs.index.IndexEngine._call_map_locations'\n",
      "Traceback (most recent call last):\n",
      "  File \"pandas/_libs/hashtable_class_helper.pxi\", line 5231, in pandas._libs.hashtable.PyObjectHashTable.map_locations\n",
      "TypeError: unhashable type: 'collections.defaultdict'\n"
     ]
    },
    {
     "data": {
      "text/plain": [
       "{'Mo1': 63, 'Se1': 1, 'S1': 126}             713\n",
       "{'Mo1': 63, 'W1': 1, 'Se1': 1, 'S1': 126}    699\n",
       "{'Mo1': 63, 'W1': 1, 'Se1': 2, 'S1': 126}    383\n",
       "{'Mo1': 63, 'S1': 126}                       380\n",
       "{'Mo1': 63, 'Se1': 2, 'S1': 126}             366\n",
       "{'Mo1': 63, 'W1': 1, 'S1': 126}              363\n",
       "{'Mo1': 64, 'Se1': 1, 'S1': 126}              11\n",
       "{'Mo1': 64, 'Se1': 2, 'S1': 126}              11\n",
       "{'Mo1': 63, 'W1': 1, 'Se1': 1, 'S1': 127}     10\n",
       "{'Mo1': 63, 'Se1': 1, 'S1': 127}               8\n",
       "{'Mo1': 63, 'W1': 1, 'S1': 127}                7\n",
       "{'Mo1': 63, 'S1': 127}                         7\n",
       "{'Mo1': 64, 'S1': 126}                         7\n",
       "{'Mo1': 64, 'Se1': 1, 'S1': 127}               1\n",
       "{'Mo1': 64, 'S1': 127}                         1\n",
       "Name: decomposition, dtype: int64"
      ]
     },
     "execution_count": 9,
     "metadata": {},
     "output_type": "execute_result"
    }
   ],
   "source": [
    "data['decomposition'].value_counts()"
   ]
  },
  {
   "cell_type": "code",
   "execution_count": 10,
   "id": "5c6bbbf9",
   "metadata": {},
   "outputs": [
    {
     "data": {
      "text/plain": [
       "3    1480\n",
       "4    1092\n",
       "2     395\n",
       "Name: len_of_decomposition, dtype: int64"
      ]
     },
     "execution_count": 10,
     "metadata": {},
     "output_type": "execute_result"
    }
   ],
   "source": [
    "data['len_of_decomposition'].value_counts()"
   ]
  },
  {
   "cell_type": "code",
   "execution_count": null,
   "id": "aaec79d9",
   "metadata": {},
   "outputs": [],
   "source": []
  }
 ],
 "metadata": {
  "kernelspec": {
   "display_name": "Python 3",
   "language": "python",
   "name": "python3"
  },
  "language_info": {
   "codemirror_mode": {
    "name": "ipython",
    "version": 3
   },
   "file_extension": ".py",
   "mimetype": "text/x-python",
   "name": "python",
   "nbconvert_exporter": "python",
   "pygments_lexer": "ipython3",
   "version": "3.8.8"
  }
 },
 "nbformat": 4,
 "nbformat_minor": 5
}
