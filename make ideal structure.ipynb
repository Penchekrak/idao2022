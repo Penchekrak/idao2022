{
 "cells": [
  {
   "cell_type": "code",
   "execution_count": null,
   "id": "deac22ad",
   "metadata": {},
   "outputs": [],
   "source": [
    "import pandas as pd\n",
    "import numpy as np\n",
    "\n",
    "import json\n",
    "\n",
    "import pymatgen\n",
    "from pymatgen.core import Structure\n",
    "\n",
    "from functions.prepare_data_and_sub import prepare_dataset\n",
    "from functions.strusture_analysis import decompose, extract_ideal_structure"
   ]
  },
  {
   "cell_type": "code",
   "execution_count": null,
   "id": "2ec1cdef",
   "metadata": {},
   "outputs": [],
   "source": [
    "data = prepare_dataset('data/dichalcogenides_public/')\n",
    "data['decomposition'] = data.structures.apply(decompose)\n",
    "ideal_structure_sites = extract_ideal_structure(data)  \n",
    "\n",
    "with open('ideal_structure.json','w') as f:\n",
    "    json.dump(Structure.from_sites(ideal_structure_sites).as_dict(), f)"
   ]
  }
 ],
 "metadata": {
  "kernelspec": {
   "display_name": "Python 3",
   "language": "python",
   "name": "python3"
  },
  "language_info": {
   "codemirror_mode": {
    "name": "ipython",
    "version": 3
   },
   "file_extension": ".py",
   "mimetype": "text/x-python",
   "name": "python",
   "nbconvert_exporter": "python",
   "pygments_lexer": "ipython3",
   "version": "3.8.8"
  }
 },
 "nbformat": 4,
 "nbformat_minor": 5
}
