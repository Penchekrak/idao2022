{
 "cells": [
  {
   "cell_type": "code",
   "execution_count": 1,
   "id": "b2662258",
   "metadata": {},
   "outputs": [],
   "source": [
    "import pandas as pd\n",
    "import numpy as np\n",
    "import matplotlib.pyplot as plt\n",
    "\n",
    "import tensorflow as tf\n",
    "\n",
    "\n",
    "from sklearn.tree import DecisionTreeClassifier\n",
    "from sklearn.model_selection import train_test_split\n",
    "\n",
    "import pymatgen\n",
    "\n",
    "from functions.prepare_data_and_sub import prepare_dataset, make_prediction, energy_within_threshold\n",
    "from functions.class2_features import unufication_class2, geometrical_features, distance_features\n",
    "from functions.classification import classificate_class2, classificate_class3, classificate_class4, classificate_class5\n",
    "from functions.classification import convert_group_to_target_class2, convert_group_to_target_class3, convert_group_to_target_class4, convert_group_to_target_class5\n",
    "from functions.strusture_analysis import decompose, make_masks, find_differ_sites, extract_ideal_structure"
   ]
  },
  {
   "cell_type": "code",
   "execution_count": 2,
   "id": "20389209",
   "metadata": {},
   "outputs": [
    {
     "data": {
      "application/vnd.jupyter.widget-view+json": {
       "model_id": "30dd0a1123bc4fa080a4d8a4d2a4aca2",
       "version_major": 2,
       "version_minor": 0
      },
      "text/plain": [
       "  0%|          | 0/380 [00:00<?, ?it/s]"
      ]
     },
     "metadata": {},
     "output_type": "display_data"
    }
   ],
   "source": [
    "data = prepare_dataset('data/dichalcogenides_public/')\n",
    "data['decomposition'] = data.structures.apply(decompose)\n",
    "mask_list = make_masks(data)\n",
    "ideal_structure_sites = extract_ideal_structure(data)  \n",
    "data['representative'] = data['structures'].apply(lambda x: find_differ_sites(x.sites, ideal_structure_sites))"
   ]
  },
  {
   "cell_type": "code",
   "execution_count": 3,
   "id": "e5613dff",
   "metadata": {},
   "outputs": [],
   "source": [
    "test = prepare_dataset('data/dichalcogenides_private/', train=False)\n",
    "test['decomposition'] = test.structures.apply(decompose)\n",
    "mask_list_test = make_masks(test)\n",
    "test['representative'] = test['structures'].apply(lambda x: find_differ_sites(x.sites, ideal_structure_sites))\n",
    "\n",
    "test = make_prediction(test, ideal_structure_sites, mask_list_test)"
   ]
  },
  {
   "cell_type": "markdown",
   "id": "9605e258",
   "metadata": {},
   "source": [
    "### Class2:"
   ]
  },
  {
   "cell_type": "code",
   "execution_count": 59,
   "id": "e5cdaa5c",
   "metadata": {},
   "outputs": [
    {
     "name": "stderr",
     "output_type": "stream",
     "text": [
      "/home/polli/IDAO-2022/functions/class2_features.py:5: SettingWithCopyWarning: \n",
      "A value is trying to be set on a copy of a slice from a DataFrame.\n",
      "Try using .loc[row_indexer,col_indexer] = value instead\n",
      "\n",
      "See the caveats in the documentation: https://pandas.pydata.org/pandas-docs/stable/user_guide/indexing.html#returning-a-view-versus-a-copy\n",
      "  sample['representative'] = sample['representative'].apply(lambda x: symmetry_transform_up(x.copy(), x[0].coords))\n",
      "/home/polli/IDAO-2022/functions/class2_features.py:6: SettingWithCopyWarning: \n",
      "A value is trying to be set on a copy of a slice from a DataFrame.\n",
      "Try using .loc[row_indexer,col_indexer] = value instead\n",
      "\n",
      "See the caveats in the documentation: https://pandas.pydata.org/pandas-docs/stable/user_guide/indexing.html#returning-a-view-versus-a-copy\n",
      "  sample['representative'] = sample['representative'].apply(lambda x: orange_closer(x.copy()))\n",
      "/home/polli/IDAO-2022/functions/class2_features.py:11: SettingWithCopyWarning: \n",
      "A value is trying to be set on a copy of a slice from a DataFrame.\n",
      "Try using .loc[row_indexer,col_indexer] = value instead\n",
      "\n",
      "See the caveats in the documentation: https://pandas.pydata.org/pandas-docs/stable/user_guide/indexing.html#returning-a-view-versus-a-copy\n",
      "  data['dist_to_diag_Mo'] = data['representative'].apply(lambda x: dist_to_diag(x[0].coords))\n",
      "/home/polli/IDAO-2022/functions/class2_features.py:12: SettingWithCopyWarning: \n",
      "A value is trying to be set on a copy of a slice from a DataFrame.\n",
      "Try using .loc[row_indexer,col_indexer] = value instead\n",
      "\n",
      "See the caveats in the documentation: https://pandas.pydata.org/pandas-docs/stable/user_guide/indexing.html#returning-a-view-versus-a-copy\n",
      "  data['dist_to_diag_S'] = data['representative'].apply(lambda x: dist_to_diag(x[1].coords))\n",
      "/home/polli/IDAO-2022/functions/class2_features.py:13: SettingWithCopyWarning: \n",
      "A value is trying to be set on a copy of a slice from a DataFrame.\n",
      "Try using .loc[row_indexer,col_indexer] = value instead\n",
      "\n",
      "See the caveats in the documentation: https://pandas.pydata.org/pandas-docs/stable/user_guide/indexing.html#returning-a-view-versus-a-copy\n",
      "  data['dist_to_diag_Se'] = data['representative'].apply(lambda x: dist_to_diag(x[2].coords))\n",
      "/home/polli/IDAO-2022/functions/class2_features.py:15: SettingWithCopyWarning: \n",
      "A value is trying to be set on a copy of a slice from a DataFrame.\n",
      "Try using .loc[row_indexer,col_indexer] = value instead\n",
      "\n",
      "See the caveats in the documentation: https://pandas.pydata.org/pandas-docs/stable/user_guide/indexing.html#returning-a-view-versus-a-copy\n",
      "  data['Mo_S_dist'] = data['representative'].apply(lambda x: np.linalg.norm(x[0].coords - x[1].coords)**0.5)\n",
      "/home/polli/IDAO-2022/functions/class2_features.py:16: SettingWithCopyWarning: \n",
      "A value is trying to be set on a copy of a slice from a DataFrame.\n",
      "Try using .loc[row_indexer,col_indexer] = value instead\n",
      "\n",
      "See the caveats in the documentation: https://pandas.pydata.org/pandas-docs/stable/user_guide/indexing.html#returning-a-view-versus-a-copy\n",
      "  data['S_Se_dist'] = data['representative'].apply(lambda x: np.linalg.norm(x[1].coords - x[2].coords)**0.5)\n",
      "/home/polli/IDAO-2022/functions/class2_features.py:17: SettingWithCopyWarning: \n",
      "A value is trying to be set on a copy of a slice from a DataFrame.\n",
      "Try using .loc[row_indexer,col_indexer] = value instead\n",
      "\n",
      "See the caveats in the documentation: https://pandas.pydata.org/pandas-docs/stable/user_guide/indexing.html#returning-a-view-versus-a-copy\n",
      "  data['Mo_Se_dist'] = data['representative'].apply(lambda x: np.linalg.norm(x[0].coords - x[2].coords)**0.5)\n",
      "/home/polli/IDAO-2022/functions/class2_features.py:25: SettingWithCopyWarning: \n",
      "A value is trying to be set on a copy of a slice from a DataFrame.\n",
      "Try using .loc[row_indexer,col_indexer] = value instead\n",
      "\n",
      "See the caveats in the documentation: https://pandas.pydata.org/pandas-docs/stable/user_guide/indexing.html#returning-a-view-versus-a-copy\n",
      "  data['Mo_coords_' + str(i)] = data['representative'].apply(lambda x: x[0].frac_coords[i])\n",
      "/home/polli/IDAO-2022/functions/class2_features.py:28: SettingWithCopyWarning: \n",
      "A value is trying to be set on a copy of a slice from a DataFrame.\n",
      "Try using .loc[row_indexer,col_indexer] = value instead\n",
      "\n",
      "See the caveats in the documentation: https://pandas.pydata.org/pandas-docs/stable/user_guide/indexing.html#returning-a-view-versus-a-copy\n",
      "  data['S_coords_' + str(i)] = data['representative'].apply(lambda x: x[1].frac_coords[i])\n",
      "/home/polli/IDAO-2022/functions/class2_features.py:31: SettingWithCopyWarning: \n",
      "A value is trying to be set on a copy of a slice from a DataFrame.\n",
      "Try using .loc[row_indexer,col_indexer] = value instead\n",
      "\n",
      "See the caveats in the documentation: https://pandas.pydata.org/pandas-docs/stable/user_guide/indexing.html#returning-a-view-versus-a-copy\n",
      "  data['Se_coords_' + str(i)] = data['representative'].apply(lambda x: x[2].frac_coords[i])\n",
      "/home/polli/IDAO-2022/functions/class2_features.py:33: SettingWithCopyWarning: \n",
      "A value is trying to be set on a copy of a slice from a DataFrame.\n",
      "Try using .loc[row_indexer,col_indexer] = value instead\n",
      "\n",
      "See the caveats in the documentation: https://pandas.pydata.org/pandas-docs/stable/user_guide/indexing.html#returning-a-view-versus-a-copy\n",
      "  data['M_is_boarder'] = data['representative'].apply(lambda x: is_boarder(x[0]))\n",
      "/home/polli/IDAO-2022/functions/class2_features.py:34: SettingWithCopyWarning: \n",
      "A value is trying to be set on a copy of a slice from a DataFrame.\n",
      "Try using .loc[row_indexer,col_indexer] = value instead\n",
      "\n",
      "See the caveats in the documentation: https://pandas.pydata.org/pandas-docs/stable/user_guide/indexing.html#returning-a-view-versus-a-copy\n",
      "  data['S_is_boarder'] = data['representative'].apply(lambda x: is_boarder(x[1]))\n",
      "/home/polli/IDAO-2022/functions/class2_features.py:35: SettingWithCopyWarning: \n",
      "A value is trying to be set on a copy of a slice from a DataFrame.\n",
      "Try using .loc[row_indexer,col_indexer] = value instead\n",
      "\n",
      "See the caveats in the documentation: https://pandas.pydata.org/pandas-docs/stable/user_guide/indexing.html#returning-a-view-versus-a-copy\n",
      "  data['Se_is_boarder'] = data['representative'].apply(lambda x: is_boarder(x[2]))\n",
      "/home/polli/IDAO-2022/functions/class2_features.py:36: SettingWithCopyWarning: \n",
      "A value is trying to be set on a copy of a slice from a DataFrame.\n",
      "Try using .loc[row_indexer,col_indexer] = value instead\n",
      "\n",
      "See the caveats in the documentation: https://pandas.pydata.org/pandas-docs/stable/user_guide/indexing.html#returning-a-view-versus-a-copy\n",
      "  data['M_is_boarder_0'] = data['M_is_boarder'] == 0\n",
      "/home/polli/IDAO-2022/functions/class2_features.py:37: SettingWithCopyWarning: \n",
      "A value is trying to be set on a copy of a slice from a DataFrame.\n",
      "Try using .loc[row_indexer,col_indexer] = value instead\n",
      "\n",
      "See the caveats in the documentation: https://pandas.pydata.org/pandas-docs/stable/user_guide/indexing.html#returning-a-view-versus-a-copy\n",
      "  data['M_is_boarder_1'] = data['M_is_boarder'] == 1\n",
      "/home/polli/IDAO-2022/functions/class2_features.py:38: SettingWithCopyWarning: \n",
      "A value is trying to be set on a copy of a slice from a DataFrame.\n",
      "Try using .loc[row_indexer,col_indexer] = value instead\n",
      "\n",
      "See the caveats in the documentation: https://pandas.pydata.org/pandas-docs/stable/user_guide/indexing.html#returning-a-view-versus-a-copy\n",
      "  data['S_is_boarder_0'] = data['S_is_boarder'] == 0\n",
      "/home/polli/IDAO-2022/functions/class2_features.py:39: SettingWithCopyWarning: \n",
      "A value is trying to be set on a copy of a slice from a DataFrame.\n",
      "Try using .loc[row_indexer,col_indexer] = value instead\n",
      "\n",
      "See the caveats in the documentation: https://pandas.pydata.org/pandas-docs/stable/user_guide/indexing.html#returning-a-view-versus-a-copy\n",
      "  data['S_is_boarder_1'] = data['S_is_boarder'] == 1\n",
      "/home/polli/IDAO-2022/functions/class2_features.py:40: SettingWithCopyWarning: \n",
      "A value is trying to be set on a copy of a slice from a DataFrame.\n",
      "Try using .loc[row_indexer,col_indexer] = value instead\n",
      "\n",
      "See the caveats in the documentation: https://pandas.pydata.org/pandas-docs/stable/user_guide/indexing.html#returning-a-view-versus-a-copy\n",
      "  data['Se_is_boarder_1'] = data['Se_is_boarder'] == 1\n",
      "/home/polli/IDAO-2022/functions/class2_features.py:41: SettingWithCopyWarning: \n",
      "A value is trying to be set on a copy of a slice from a DataFrame.\n",
      "Try using .loc[row_indexer,col_indexer] = value instead\n",
      "\n",
      "See the caveats in the documentation: https://pandas.pydata.org/pandas-docs/stable/user_guide/indexing.html#returning-a-view-versus-a-copy\n",
      "  data['Se_is_boarder_0'] = data['Se_is_boarder'] == 0\n"
     ]
    }
   ],
   "source": [
    "model = DecisionTreeClassifier(max_depth=15, random_state=13)\n",
    "\n",
    "class2 = data[mask_list[2]].copy()\n",
    "class2['group'] = class2['targets'].apply(classificate_class2)\n",
    "\n",
    "class2 = unufication_class2(class2)\n",
    "class2 = geometrical_features(class2)\n",
    "\n",
    "test_class2 = unufication_class2(test[mask_list_test[2]])\n",
    "test_class2 = geometrical_features(test_class2)\n",
    "\n",
    "feature_list = ['Mo_S_dist', 'S_Se_dist', 'Mo_Se_dist']\n",
    "model.fit(class2[feature_list], class2['group'])\n",
    "\n",
    "class2_predict_group3 = model.predict(test_class2[feature_list])"
   ]
  },
  {
   "cell_type": "code",
   "execution_count": 5,
   "id": "ca4739d3",
   "metadata": {},
   "outputs": [],
   "source": [
    "class2 = class2[(class2.group == 2) | (class2.group == 1)]"
   ]
  },
  {
   "cell_type": "code",
   "execution_count": 6,
   "id": "ff3aa0c0",
   "metadata": {},
   "outputs": [
    {
     "name": "stderr",
     "output_type": "stream",
     "text": [
      "/home/polli/anaconda3/lib/python3.8/site-packages/xgboost/sklearn.py:1224: UserWarning: The use of label encoder in XGBClassifier is deprecated and will be removed in a future release. To remove this warning, do the following: 1) Pass option use_label_encoder=False when constructing XGBClassifier object; and 2) Encode your labels (y) as integers starting with 0, i.e. 0, 1, 2, ..., [num_class - 1].\n",
      "  warnings.warn(label_encoder_deprecation_msg, UserWarning)\n"
     ]
    },
    {
     "name": "stdout",
     "output_type": "stream",
     "text": [
      "[16:57:41] WARNING: ../src/learner.cc:1115: Starting in XGBoost 1.3.0, the default evaluation metric used with the objective 'binary:logistic' was changed from 'error' to 'logloss'. Explicitly set eval_metric if you'd like to restore the old behavior.\n"
     ]
    }
   ],
   "source": [
    "from xgboost import XGBClassifier\n",
    "\n",
    "feature_list = list(class2.columns[5:])\n",
    "\n",
    "model = XGBClassifier(n_estimators=45, random_state=0xC0FFEE)\n",
    "model.fit(class2[feature_list], class2['group'])\n",
    "class2_predict_group12 = model.predict(test_class2[feature_list])\n"
   ]
  },
  {
   "cell_type": "code",
   "execution_count": 7,
   "id": "3a377b04",
   "metadata": {},
   "outputs": [],
   "source": [
    "class2_predict_group = class2_predict_group12\n",
    "class2_predict_group[class2_predict_group3 == 3] = 3\n",
    "\n",
    "predictions_class2 = list(map(convert_group_to_target_class2, class2_predict_group))\n",
    "test.loc[mask_list_test[2], 'predictions'] = predictions_class2"
   ]
  },
  {
   "cell_type": "markdown",
   "id": "6a45b6ae",
   "metadata": {},
   "source": [
    "### Class3:"
   ]
  },
  {
   "cell_type": "code",
   "execution_count": 57,
   "id": "0c583de6",
   "metadata": {},
   "outputs": [
    {
     "name": "stdout",
     "output_type": "stream",
     "text": [
      "[17:21:05] WARNING: ../src/learner.cc:1115: Starting in XGBoost 1.3.0, the default evaluation metric used with the objective 'multi:softprob' was changed from 'merror' to 'mlogloss'. Explicitly set eval_metric if you'd like to restore the old behavior.\n"
     ]
    }
   ],
   "source": [
    "class3 = data[mask_list[3]].copy()\n",
    "class3['group'] = class3['targets'].apply(classificate_class3)\n",
    "class3 = class3[class3.group != 0]\n",
    "class3 = distance_features(class3)\n",
    "\n",
    "test_class3 = test[mask_list_test[3]].copy()\n",
    "test_class3 = distance_features(test_class3)\n",
    "\n",
    "for i in range(3):\n",
    "    class3['dist' + str(i+1)] = class3[['Mo_S_dist', 'S_Se_dist', 'Mo_Se_dist']].apply(lambda row: sorted(row)[i], axis=1)\n",
    "    test_class3['dist' + str(i+1)] = test_class3[['Mo_S_dist', 'S_Se_dist', 'Mo_Se_dist']].apply(lambda row: sorted(row)[i], axis=1)\n",
    "    \n",
    "feature_list = ['dist1', 'dist2', 'dist3']\n",
    "model = XGBClassifier(n_estimators=30, random_state=0xC0FFEE)\n",
    "model.fit(class3[feature_list], class3['group'])\n",
    "\n",
    "class3_predict_group = model.predict(test_class3[feature_list])"
   ]
  },
  {
   "cell_type": "code",
   "execution_count": 58,
   "id": "cd59c625",
   "metadata": {},
   "outputs": [
    {
     "name": "stdout",
     "output_type": "stream",
     "text": [
      "[17:21:05] WARNING: ../src/learner.cc:1115: Starting in XGBoost 1.3.0, the default evaluation metric used with the objective 'multi:softprob' was changed from 'merror' to 'mlogloss'. Explicitly set eval_metric if you'd like to restore the old behavior.\n",
      "0.8512396694214877\n"
     ]
    },
    {
     "data": {
      "image/png": "[encoded data removed]",
      "text/plain": [
       "<Figure size 432x288 with 1 Axes>"
      ]
     },
     "metadata": {
      "needs_background": "light"
     },
     "output_type": "display_data"
    }
   ],
   "source": [
    "X_train, X_test, y_train, y_test = train_test_split(class3, class3['group'], test_size=0.33, random_state=42)\n",
    "\n",
    "model = XGBClassifier(n_estimators=10, random_state=0xC0FFEE)\n",
    "\n",
    "model.fit(X_train[feature_list], y_train)\n",
    "class3_predict_group = model.predict(X_test[feature_list])\n",
    "\n",
    "print(np.sum(class3_predict_group == y_test) / len(y_test))\n",
    "plt.scatter(np.arange(len(y_test)), X_test.targets, c=class3_predict_group)\n",
    "plt.show()"
   ]
  },
  {
   "cell_type": "code",
   "execution_count": 9,
   "id": "a8f6ae1c",
   "metadata": {},
   "outputs": [],
   "source": [
    "predictions_class3 = list(map(convert_group_to_target_class3, class3_predict_group))\n",
    "test.loc[mask_list_test[3], 'predictions'] = predictions_class3"
   ]
  },
  {
   "cell_type": "markdown",
   "id": "a3c0ca6f",
   "metadata": {},
   "source": [
    "### Class4"
   ]
  },
  {
   "cell_type": "code",
   "execution_count": 25,
   "id": "57024f81",
   "metadata": {},
   "outputs": [],
   "source": [
    "class4 = data[mask_list[4]].copy()\n",
    "class4['group'] = class4['targets'].apply(classificate_class4)\n",
    "class4 = class4[class4.group != 0]\n",
    "class4 = distance_features(class4)\n",
    "\n",
    "test_class4 = test[mask_list_test[4]].copy()\n",
    "test_class4 = distance_features(test_class4)\n",
    "\n",
    "for i in range(3):\n",
    "    class4['dist' + str(i+1)] = class4[['Mo_S_dist', 'S_Se_dist', 'Mo_Se_dist']].apply(lambda row: sorted(row)[i], axis=1)\n",
    "    test_class4['dist' + str(i+1)] = test_class4[['Mo_S_dist', 'S_Se_dist', 'Mo_Se_dist']].apply(lambda row: sorted(row)[i], axis=1)\n",
    "    \n",
    "feature_list = ['dist1', 'dist2', 'dist3']\n",
    "# model = XGBClassifier(n_estimators=30, random_state=0xC0FFEE)\n",
    "# model.fit(class4[feature_list], class4['group'])\n",
    "\n",
    "# class4_predict_group = model.predict(test_class4[feature_list])"
   ]
  },
  {
   "cell_type": "code",
   "execution_count": 26,
   "id": "7592e6f4",
   "metadata": {},
   "outputs": [
    {
     "data": {
      "text/plain": [
       "2    226\n",
       "1     81\n",
       "3     31\n",
       "Name: group, dtype: int64"
      ]
     },
     "execution_count": 26,
     "metadata": {},
     "output_type": "execute_result"
    }
   ],
   "source": [
    "class4['group'].value_counts()"
   ]
  },
  {
   "cell_type": "code",
   "execution_count": 38,
   "id": "f0e2f145",
   "metadata": {},
   "outputs": [
    {
     "name": "stdout",
     "output_type": "stream",
     "text": [
      "[17:19:05] WARNING: ../src/learner.cc:1115: Starting in XGBoost 1.3.0, the default evaluation metric used with the objective 'multi:softprob' was changed from 'merror' to 'mlogloss'. Explicitly set eval_metric if you'd like to restore the old behavior.\n",
      "0.9285714285714286\n"
     ]
    },
    {
     "data": {
      "image/png": "[encoded data removed]",
      "text/plain": [
       "<Figure size 432x288 with 1 Axes>"
      ]
     },
     "metadata": {
      "needs_background": "light"
     },
     "output_type": "display_data"
    }
   ],
   "source": [
    "X_train, X_test, y_train, y_test = train_test_split(class4, class4['group'], test_size=0.33, random_state=42)\n",
    "\n",
    "model = XGBClassifier(n_estimators=5, random_state=0xC0FFEE)\n",
    "\n",
    "model.fit(X_train[feature_list], y_train)\n",
    "class4_predict_group = model.predict(X_test[feature_list])\n",
    "\n",
    "print(np.sum(class4_predict_group == y_test) / len(y_test))\n",
    "plt.scatter(np.arange(len(y_test)), X_test.targets, c=class4_predict_group)\n",
    "plt.show()"
   ]
  },
  {
   "cell_type": "markdown",
   "id": "a210b7f8",
   "metadata": {},
   "source": [
    "### Class5"
   ]
  },
  {
   "cell_type": "code",
   "execution_count": 66,
   "id": "f7b31ee6",
   "metadata": {},
   "outputs": [
    {
     "name": "stdout",
     "output_type": "stream",
     "text": [
      "[17:25:51] WARNING: ../src/learner.cc:1115: Starting in XGBoost 1.3.0, the default evaluation metric used with the objective 'multi:softprob' was changed from 'merror' to 'mlogloss'. Explicitly set eval_metric if you'd like to restore the old behavior.\n"
     ]
    },
    {
     "name": "stderr",
     "output_type": "stream",
     "text": [
      "/home/polli/anaconda3/lib/python3.8/site-packages/xgboost/sklearn.py:1224: UserWarning: The use of label encoder in XGBClassifier is deprecated and will be removed in a future release. To remove this warning, do the following: 1) Pass option use_label_encoder=False when constructing XGBClassifier object; and 2) Encode your labels (y) as integers starting with 0, i.e. 0, 1, 2, ..., [num_class - 1].\n",
      "  warnings.warn(label_encoder_deprecation_msg, UserWarning)\n"
     ]
    }
   ],
   "source": [
    "class5 = data[mask_list[5]].copy()\n",
    "class5['group'] = class5['targets'].apply(classificate_class5)\n",
    "class5 = class5[class5.group != 0]\n",
    "class5 = distance_features(class5)\n",
    "\n",
    "test_class5 = test[mask_list_test[5]].copy()\n",
    "test_class5 = distance_features(test_class5)\n",
    "\n",
    "for i in range(3):\n",
    "    class5['dist' + str(i+1)] = class5[['Mo_S_dist', 'S_Se_dist', 'Mo_Se_dist']].apply(lambda row: sorted(row)[i], axis=1)\n",
    "    test_class5['dist' + str(i+1)] = test_class5[['Mo_S_dist', 'S_Se_dist', 'Mo_Se_dist']].apply(lambda row: sorted(row)[i], axis=1)\n",
    "    \n",
    "feature_list = ['dist1', 'dist2', 'dist3']\n",
    "model = XGBClassifier(n_estimators=5, random_state=0xC0FFEE)\n",
    "model.fit(class5[feature_list], class5['group'])\n",
    "\n",
    "class5_predict_group = model.predict(test_class5[feature_list])"
   ]
  },
  {
   "cell_type": "code",
   "execution_count": 67,
   "id": "353f7033",
   "metadata": {},
   "outputs": [
    {
     "data": {
      "text/plain": [
       "1    0.596774\n",
       "2    0.248387\n",
       "3    0.154839\n",
       "Name: group, dtype: float64"
      ]
     },
     "execution_count": 67,
     "metadata": {},
     "output_type": "execute_result"
    }
   ],
   "source": [
    "class5.group.value_counts() / len(class5)"
   ]
  },
  {
   "cell_type": "code",
   "execution_count": 70,
   "id": "d702d392",
   "metadata": {},
   "outputs": [
    {
     "data": {
      "text/html": [
       "<div>\n",
       "<style scoped>\n",
       "    .dataframe tbody tr th:only-of-type {\n",
       "        vertical-align: middle;\n",
       "    }\n",
       "\n",
       "    .dataframe tbody tr th {\n",
       "        vertical-align: top;\n",
       "    }\n",
       "\n",
       "    .dataframe thead th {\n",
       "        text-align: right;\n",
       "    }\n",
       "</style>\n",
       "<table border=\"1\" class=\"dataframe\">\n",
       "  <thead>\n",
       "    <tr style=\"text-align: right;\">\n",
       "      <th></th>\n",
       "      <th>structures</th>\n",
       "      <th>targets</th>\n",
       "      <th>decomposition</th>\n",
       "      <th>representative</th>\n",
       "      <th>group</th>\n",
       "      <th>dist_to_diag_Mo</th>\n",
       "      <th>dist_to_diag_S</th>\n",
       "      <th>dist_to_diag_Se</th>\n",
       "      <th>Mo_S_dist</th>\n",
       "      <th>S_Se_dist</th>\n",
       "      <th>Mo_Se_dist</th>\n",
       "      <th>dist1</th>\n",
       "      <th>dist2</th>\n",
       "      <th>dist3</th>\n",
       "    </tr>\n",
       "  </thead>\n",
       "  <tbody>\n",
       "    <tr>\n",
       "      <th>6141cf303ac25c70a5c6c84d</th>\n",
       "      <td>[[1.27612629e-07 1.84192955e+00 3.71975100e+00...</td>\n",
       "      <td>0.4227</td>\n",
       "      <td>{'Mo1': 63, 'S1': 126}</td>\n",
       "      <td>[[15.95157863 12.89350732  3.719751  ] Mo, [14...</td>\n",
       "      <td>1</td>\n",
       "      <td>6.380724</td>\n",
       "      <td>4.785448</td>\n",
       "      <td>0.000006</td>\n",
       "      <td>3.489884</td>\n",
       "      <td>3.866665</td>\n",
       "      <td>3.363447</td>\n",
       "      <td>3.363447</td>\n",
       "      <td>3.489884</td>\n",
       "      <td>3.866665</td>\n",
       "    </tr>\n",
       "    <tr>\n",
       "      <th>6143f8083ac25c70a5c6cd4b</th>\n",
       "      <td>[[1.27612629e-07 1.84192955e+00 3.71975100e+00...</td>\n",
       "      <td>0.4162</td>\n",
       "      <td>{'Mo1': 63, 'S1': 126}</td>\n",
       "      <td>[[19.14189433  1.84192955  3.719751  ] Mo, [9....</td>\n",
       "      <td>1</td>\n",
       "      <td>1.595037</td>\n",
       "      <td>4.785456</td>\n",
       "      <td>4.785464</td>\n",
       "      <td>3.141878</td>\n",
       "      <td>2.520028</td>\n",
       "      <td>3.893307</td>\n",
       "      <td>2.520028</td>\n",
       "      <td>3.141878</td>\n",
       "      <td>3.893307</td>\n",
       "    </tr>\n",
       "    <tr>\n",
       "      <th>61434b773ac25c70a5c6ccd9</th>\n",
       "      <td>[[1.27612629e-07 1.84192955e+00 3.71975100e+00...</td>\n",
       "      <td>0.3000</td>\n",
       "      <td>{'Mo1': 63, 'S1': 126}</td>\n",
       "      <td>[[19.14189433  1.84192955  3.719751  ] Mo, [19...</td>\n",
       "      <td>3</td>\n",
       "      <td>1.595037</td>\n",
       "      <td>0.000030</td>\n",
       "      <td>7.975771</td>\n",
       "      <td>1.554642</td>\n",
       "      <td>3.452682</td>\n",
       "      <td>3.363447</td>\n",
       "      <td>1.554642</td>\n",
       "      <td>3.363447</td>\n",
       "      <td>3.452682</td>\n",
       "    </tr>\n",
       "    <tr>\n",
       "      <th>6141d01d3ac25c70a5c6c883</th>\n",
       "      <td>[[1.27612629e-07 1.84192955e+00 3.71975100e+00...</td>\n",
       "      <td>0.4083</td>\n",
       "      <td>{'Mo1': 63, 'S1': 126}</td>\n",
       "      <td>[[7.97578938 4.604824   3.719751  ] Mo, [ 4.78...</td>\n",
       "      <td>1</td>\n",
       "      <td>4.785390</td>\n",
       "      <td>4.785475</td>\n",
       "      <td>3.190294</td>\n",
       "      <td>3.657076</td>\n",
       "      <td>3.993943</td>\n",
       "      <td>2.262381</td>\n",
       "      <td>2.262381</td>\n",
       "      <td>3.657076</td>\n",
       "      <td>3.993943</td>\n",
       "    </tr>\n",
       "    <tr>\n",
       "      <th>61421e623ac25c70a5c6cacd</th>\n",
       "      <td>[[1.27612629e-07 1.84192955e+00 3.71975100e+00...</td>\n",
       "      <td>0.4251</td>\n",
       "      <td>{'Mo1': 63, 'S1': 126}</td>\n",
       "      <td>[[ 7.97578938 10.13061288  3.719751  ] Mo, [-3...</td>\n",
       "      <td>1</td>\n",
       "      <td>0.000074</td>\n",
       "      <td>6.380634</td>\n",
       "      <td>1.595124</td>\n",
       "      <td>3.363447</td>\n",
       "      <td>5.032131</td>\n",
       "      <td>3.976816</td>\n",
       "      <td>3.363447</td>\n",
       "      <td>3.976816</td>\n",
       "      <td>5.032131</td>\n",
       "    </tr>\n",
       "    <tr>\n",
       "      <th>...</th>\n",
       "      <td>...</td>\n",
       "      <td>...</td>\n",
       "      <td>...</td>\n",
       "      <td>...</td>\n",
       "      <td>...</td>\n",
       "      <td>...</td>\n",
       "      <td>...</td>\n",
       "      <td>...</td>\n",
       "      <td>...</td>\n",
       "      <td>...</td>\n",
       "      <td>...</td>\n",
       "      <td>...</td>\n",
       "      <td>...</td>\n",
       "      <td>...</td>\n",
       "    </tr>\n",
       "    <tr>\n",
       "      <th>6142e26f3ac25c70a5c6cc67</th>\n",
       "      <td>[[1.27612629e-07 1.84192955e+00 3.71975100e+00...</td>\n",
       "      <td>0.3562</td>\n",
       "      <td>{'Mo1': 63, 'S1': 126}</td>\n",
       "      <td>[[-3.19031557 18.41929621  3.719751  ] Mo, [ 9...</td>\n",
       "      <td>2</td>\n",
       "      <td>1.595184</td>\n",
       "      <td>4.785483</td>\n",
       "      <td>1.595168</td>\n",
       "      <td>3.657076</td>\n",
       "      <td>2.114032</td>\n",
       "      <td>3.603904</td>\n",
       "      <td>2.114032</td>\n",
       "      <td>3.603904</td>\n",
       "      <td>3.657076</td>\n",
       "    </tr>\n",
       "    <tr>\n",
       "      <th>6142e6093ac25c70a5c6cc69</th>\n",
       "      <td>[[1.27612629e-07 1.84192955e+00 3.71975100e+00...</td>\n",
       "      <td>0.3588</td>\n",
       "      <td>{'Mo1': 63, 'S1': 126}</td>\n",
       "      <td>[[ 4.78547368 10.13061288  3.719751  ] Mo, [-4...</td>\n",
       "      <td>2</td>\n",
       "      <td>1.595093</td>\n",
       "      <td>0.000010</td>\n",
       "      <td>4.785475</td>\n",
       "      <td>3.489884</td>\n",
       "      <td>3.093695</td>\n",
       "      <td>2.744461</td>\n",
       "      <td>2.744461</td>\n",
       "      <td>3.093695</td>\n",
       "      <td>3.489884</td>\n",
       "    </tr>\n",
       "    <tr>\n",
       "      <th>614298fb3ac25c70a5c6cc0d</th>\n",
       "      <td>[[1.27612629e-07 1.84192955e+00 3.71975100e+00...</td>\n",
       "      <td>0.4170</td>\n",
       "      <td>{'Mo1': 63, 'S1': 126}</td>\n",
       "      <td>[[ 4.78547368 10.13061288  3.719751  ] Mo, [ 1...</td>\n",
       "      <td>1</td>\n",
       "      <td>1.595093</td>\n",
       "      <td>3.190313</td>\n",
       "      <td>7.975791</td>\n",
       "      <td>2.860046</td>\n",
       "      <td>2.350700</td>\n",
       "      <td>3.220890</td>\n",
       "      <td>2.350700</td>\n",
       "      <td>2.860046</td>\n",
       "      <td>3.220890</td>\n",
       "    </tr>\n",
       "    <tr>\n",
       "      <th>6142e1d73ac25c70a5c6cc65</th>\n",
       "      <td>[[1.27612629e-07 1.84192955e+00 3.71975100e+00...</td>\n",
       "      <td>0.3042</td>\n",
       "      <td>{'Mo1': 63, 'S1': 126}</td>\n",
       "      <td>[[3.19031583 1.84192955 3.719751  ] Mo, [6.380...</td>\n",
       "      <td>3</td>\n",
       "      <td>9.570873</td>\n",
       "      <td>6.380618</td>\n",
       "      <td>6.380629</td>\n",
       "      <td>2.000611</td>\n",
       "      <td>4.108718</td>\n",
       "      <td>4.299494</td>\n",
       "      <td>2.000611</td>\n",
       "      <td>4.108718</td>\n",
       "      <td>4.299494</td>\n",
       "    </tr>\n",
       "    <tr>\n",
       "      <th>614253223ac25c70a5c6cb7d</th>\n",
       "      <td>[[1.27612629e-07 1.84192955e+00 3.71975100e+00...</td>\n",
       "      <td>0.4256</td>\n",
       "      <td>{'Mo1': 63, 'S1': 126}</td>\n",
       "      <td>[[11.16610508  4.604824    3.719751  ] Mo, [-7...</td>\n",
       "      <td>1</td>\n",
       "      <td>3.190223</td>\n",
       "      <td>1.595172</td>\n",
       "      <td>0.000038</td>\n",
       "      <td>4.809605</td>\n",
       "      <td>5.996085</td>\n",
       "      <td>3.657076</td>\n",
       "      <td>3.657076</td>\n",
       "      <td>4.809605</td>\n",
       "      <td>5.996085</td>\n",
       "    </tr>\n",
       "  </tbody>\n",
       "</table>\n",
       "<p>310 rows × 14 columns</p>\n",
       "</div>"
      ],
      "text/plain": [
       "                                                                 structures  \\\n",
       "6141cf303ac25c70a5c6c84d  [[1.27612629e-07 1.84192955e+00 3.71975100e+00...   \n",
       "6143f8083ac25c70a5c6cd4b  [[1.27612629e-07 1.84192955e+00 3.71975100e+00...   \n",
       "61434b773ac25c70a5c6ccd9  [[1.27612629e-07 1.84192955e+00 3.71975100e+00...   \n",
       "6141d01d3ac25c70a5c6c883  [[1.27612629e-07 1.84192955e+00 3.71975100e+00...   \n",
       "61421e623ac25c70a5c6cacd  [[1.27612629e-07 1.84192955e+00 3.71975100e+00...   \n",
       "...                                                                     ...   \n",
       "6142e26f3ac25c70a5c6cc67  [[1.27612629e-07 1.84192955e+00 3.71975100e+00...   \n",
       "6142e6093ac25c70a5c6cc69  [[1.27612629e-07 1.84192955e+00 3.71975100e+00...   \n",
       "614298fb3ac25c70a5c6cc0d  [[1.27612629e-07 1.84192955e+00 3.71975100e+00...   \n",
       "6142e1d73ac25c70a5c6cc65  [[1.27612629e-07 1.84192955e+00 3.71975100e+00...   \n",
       "614253223ac25c70a5c6cb7d  [[1.27612629e-07 1.84192955e+00 3.71975100e+00...   \n",
       "\n",
       "                          targets           decomposition  \\\n",
       "6141cf303ac25c70a5c6c84d   0.4227  {'Mo1': 63, 'S1': 126}   \n",
       "6143f8083ac25c70a5c6cd4b   0.4162  {'Mo1': 63, 'S1': 126}   \n",
       "61434b773ac25c70a5c6ccd9   0.3000  {'Mo1': 63, 'S1': 126}   \n",
       "6141d01d3ac25c70a5c6c883   0.4083  {'Mo1': 63, 'S1': 126}   \n",
       "61421e623ac25c70a5c6cacd   0.4251  {'Mo1': 63, 'S1': 126}   \n",
       "...                           ...                     ...   \n",
       "6142e26f3ac25c70a5c6cc67   0.3562  {'Mo1': 63, 'S1': 126}   \n",
       "6142e6093ac25c70a5c6cc69   0.3588  {'Mo1': 63, 'S1': 126}   \n",
       "614298fb3ac25c70a5c6cc0d   0.4170  {'Mo1': 63, 'S1': 126}   \n",
       "6142e1d73ac25c70a5c6cc65   0.3042  {'Mo1': 63, 'S1': 126}   \n",
       "614253223ac25c70a5c6cb7d   0.4256  {'Mo1': 63, 'S1': 126}   \n",
       "\n",
       "                                                             representative  \\\n",
       "6141cf303ac25c70a5c6c84d  [[15.95157863 12.89350732  3.719751  ] Mo, [14...   \n",
       "6143f8083ac25c70a5c6cd4b  [[19.14189433  1.84192955  3.719751  ] Mo, [9....   \n",
       "61434b773ac25c70a5c6ccd9  [[19.14189433  1.84192955  3.719751  ] Mo, [19...   \n",
       "6141d01d3ac25c70a5c6c883  [[7.97578938 4.604824   3.719751  ] Mo, [ 4.78...   \n",
       "61421e623ac25c70a5c6cacd  [[ 7.97578938 10.13061288  3.719751  ] Mo, [-3...   \n",
       "...                                                                     ...   \n",
       "6142e26f3ac25c70a5c6cc67  [[-3.19031557 18.41929621  3.719751  ] Mo, [ 9...   \n",
       "6142e6093ac25c70a5c6cc69  [[ 4.78547368 10.13061288  3.719751  ] Mo, [-4...   \n",
       "614298fb3ac25c70a5c6cc0d  [[ 4.78547368 10.13061288  3.719751  ] Mo, [ 1...   \n",
       "6142e1d73ac25c70a5c6cc65  [[3.19031583 1.84192955 3.719751  ] Mo, [6.380...   \n",
       "614253223ac25c70a5c6cb7d  [[11.16610508  4.604824    3.719751  ] Mo, [-7...   \n",
       "\n",
       "                          group  dist_to_diag_Mo  dist_to_diag_S  \\\n",
       "6141cf303ac25c70a5c6c84d      1         6.380724        4.785448   \n",
       "6143f8083ac25c70a5c6cd4b      1         1.595037        4.785456   \n",
       "61434b773ac25c70a5c6ccd9      3         1.595037        0.000030   \n",
       "6141d01d3ac25c70a5c6c883      1         4.785390        4.785475   \n",
       "61421e623ac25c70a5c6cacd      1         0.000074        6.380634   \n",
       "...                         ...              ...             ...   \n",
       "6142e26f3ac25c70a5c6cc67      2         1.595184        4.785483   \n",
       "6142e6093ac25c70a5c6cc69      2         1.595093        0.000010   \n",
       "614298fb3ac25c70a5c6cc0d      1         1.595093        3.190313   \n",
       "6142e1d73ac25c70a5c6cc65      3         9.570873        6.380618   \n",
       "614253223ac25c70a5c6cb7d      1         3.190223        1.595172   \n",
       "\n",
       "                          dist_to_diag_Se  Mo_S_dist  S_Se_dist  Mo_Se_dist  \\\n",
       "6141cf303ac25c70a5c6c84d         0.000006   3.489884   3.866665    3.363447   \n",
       "6143f8083ac25c70a5c6cd4b         4.785464   3.141878   2.520028    3.893307   \n",
       "61434b773ac25c70a5c6ccd9         7.975771   1.554642   3.452682    3.363447   \n",
       "6141d01d3ac25c70a5c6c883         3.190294   3.657076   3.993943    2.262381   \n",
       "61421e623ac25c70a5c6cacd         1.595124   3.363447   5.032131    3.976816   \n",
       "...                                   ...        ...        ...         ...   \n",
       "6142e26f3ac25c70a5c6cc67         1.595168   3.657076   2.114032    3.603904   \n",
       "6142e6093ac25c70a5c6cc69         4.785475   3.489884   3.093695    2.744461   \n",
       "614298fb3ac25c70a5c6cc0d         7.975791   2.860046   2.350700    3.220890   \n",
       "6142e1d73ac25c70a5c6cc65         6.380629   2.000611   4.108718    4.299494   \n",
       "614253223ac25c70a5c6cb7d         0.000038   4.809605   5.996085    3.657076   \n",
       "\n",
       "                             dist1     dist2     dist3  \n",
       "6141cf303ac25c70a5c6c84d  3.363447  3.489884  3.866665  \n",
       "6143f8083ac25c70a5c6cd4b  2.520028  3.141878  3.893307  \n",
       "61434b773ac25c70a5c6ccd9  1.554642  3.363447  3.452682  \n",
       "6141d01d3ac25c70a5c6c883  2.262381  3.657076  3.993943  \n",
       "61421e623ac25c70a5c6cacd  3.363447  3.976816  5.032131  \n",
       "...                            ...       ...       ...  \n",
       "6142e26f3ac25c70a5c6cc67  2.114032  3.603904  3.657076  \n",
       "6142e6093ac25c70a5c6cc69  2.744461  3.093695  3.489884  \n",
       "614298fb3ac25c70a5c6cc0d  2.350700  2.860046  3.220890  \n",
       "6142e1d73ac25c70a5c6cc65  2.000611  4.108718  4.299494  \n",
       "614253223ac25c70a5c6cb7d  3.657076  4.809605  5.996085  \n",
       "\n",
       "[310 rows x 14 columns]"
      ]
     },
     "execution_count": 70,
     "metadata": {},
     "output_type": "execute_result"
    }
   ],
   "source": [
    "class5"
   ]
  },
  {
   "cell_type": "code",
   "execution_count": 68,
   "id": "231a469f",
   "metadata": {},
   "outputs": [
    {
     "data": {
      "text/html": [
       "<div>\n",
       "<style scoped>\n",
       "    .dataframe tbody tr th:only-of-type {\n",
       "        vertical-align: middle;\n",
       "    }\n",
       "\n",
       "    .dataframe tbody tr th {\n",
       "        vertical-align: top;\n",
       "    }\n",
       "\n",
       "    .dataframe thead th {\n",
       "        text-align: right;\n",
       "    }\n",
       "</style>\n",
       "<table border=\"1\" class=\"dataframe\">\n",
       "  <thead>\n",
       "    <tr style=\"text-align: right;\">\n",
       "      <th></th>\n",
       "      <th>dist1</th>\n",
       "      <th>dist2</th>\n",
       "      <th>dist3</th>\n",
       "    </tr>\n",
       "  </thead>\n",
       "  <tbody>\n",
       "    <tr>\n",
       "      <th>6141d53c3ac25c70a5c6c8f7</th>\n",
       "      <td>1.554642</td>\n",
       "      <td>5.011282</td>\n",
       "      <td>5.082760</td>\n",
       "    </tr>\n",
       "    <tr>\n",
       "      <th>6143a3fb3ac25c70a5c6cd1f</th>\n",
       "      <td>1.786145</td>\n",
       "      <td>3.363447</td>\n",
       "      <td>3.804049</td>\n",
       "    </tr>\n",
       "    <tr>\n",
       "      <th>6141de393ac25c70a5c6c967</th>\n",
       "      <td>2.520028</td>\n",
       "      <td>3.141878</td>\n",
       "      <td>3.220890</td>\n",
       "    </tr>\n",
       "    <tr>\n",
       "      <th>6141fe673ac25c70a5c6ca4d</th>\n",
       "      <td>3.141878</td>\n",
       "      <td>3.729110</td>\n",
       "      <td>4.666084</td>\n",
       "    </tr>\n",
       "    <tr>\n",
       "      <th>614499e33ac25c70a5c6cd87</th>\n",
       "      <td>2.860046</td>\n",
       "      <td>3.173273</td>\n",
       "      <td>4.200052</td>\n",
       "    </tr>\n",
       "    <tr>\n",
       "      <th>...</th>\n",
       "      <td>...</td>\n",
       "      <td>...</td>\n",
       "      <td>...</td>\n",
       "    </tr>\n",
       "    <tr>\n",
       "      <th>6143a4a73ac25c70a5c6cd21</th>\n",
       "      <td>2.262381</td>\n",
       "      <td>2.520028</td>\n",
       "      <td>3.141878</td>\n",
       "    </tr>\n",
       "    <tr>\n",
       "      <th>6141d0bf3ac25c70a5c6c899</th>\n",
       "      <td>3.657076</td>\n",
       "      <td>4.200052</td>\n",
       "      <td>5.325049</td>\n",
       "    </tr>\n",
       "    <tr>\n",
       "      <th>614318743ac25c70a5c6cca3</th>\n",
       "      <td>2.520028</td>\n",
       "      <td>3.657076</td>\n",
       "      <td>4.331158</td>\n",
       "    </tr>\n",
       "    <tr>\n",
       "      <th>6141e72c3ac25c70a5c6c9b7</th>\n",
       "      <td>2.905302</td>\n",
       "      <td>4.200052</td>\n",
       "      <td>4.535468</td>\n",
       "    </tr>\n",
       "    <tr>\n",
       "      <th>6141d5593ac25c70a5c6c8f9</th>\n",
       "      <td>3.324391</td>\n",
       "      <td>3.804049</td>\n",
       "      <td>4.331158</td>\n",
       "    </tr>\n",
       "  </tbody>\n",
       "</table>\n",
       "<p>207 rows × 3 columns</p>\n",
       "</div>"
      ],
      "text/plain": [
       "                             dist1     dist2     dist3\n",
       "6141d53c3ac25c70a5c6c8f7  1.554642  5.011282  5.082760\n",
       "6143a3fb3ac25c70a5c6cd1f  1.786145  3.363447  3.804049\n",
       "6141de393ac25c70a5c6c967  2.520028  3.141878  3.220890\n",
       "6141fe673ac25c70a5c6ca4d  3.141878  3.729110  4.666084\n",
       "614499e33ac25c70a5c6cd87  2.860046  3.173273  4.200052\n",
       "...                            ...       ...       ...\n",
       "6143a4a73ac25c70a5c6cd21  2.262381  2.520028  3.141878\n",
       "6141d0bf3ac25c70a5c6c899  3.657076  4.200052  5.325049\n",
       "614318743ac25c70a5c6cca3  2.520028  3.657076  4.331158\n",
       "6141e72c3ac25c70a5c6c9b7  2.905302  4.200052  4.535468\n",
       "6141d5593ac25c70a5c6c8f9  3.324391  3.804049  4.331158\n",
       "\n",
       "[207 rows x 3 columns]"
      ]
     },
     "execution_count": 68,
     "metadata": {},
     "output_type": "execute_result"
    }
   ],
   "source": [
    "X_train[feature_list]"
   ]
  },
  {
   "cell_type": "markdown",
   "id": "00c3385f",
   "metadata": {},
   "source": [
    "# Почему-то ячейка ниже давала разный результат в двух ноутбуках"
   ]
  },
  {
   "cell_type": "code",
   "execution_count": 69,
   "id": "de19dc11",
   "metadata": {},
   "outputs": [
    {
     "name": "stdout",
     "output_type": "stream",
     "text": [
      "[17:25:54] WARNING: ../src/learner.cc:1115: Starting in XGBoost 1.3.0, the default evaluation metric used with the objective 'multi:softprob' was changed from 'merror' to 'mlogloss'. Explicitly set eval_metric if you'd like to restore the old behavior.\n",
      "0.7184466019417476\n"
     ]
    },
    {
     "name": "stderr",
     "output_type": "stream",
     "text": [
      "/home/polli/anaconda3/lib/python3.8/site-packages/xgboost/sklearn.py:1224: UserWarning: The use of label encoder in XGBClassifier is deprecated and will be removed in a future release. To remove this warning, do the following: 1) Pass option use_label_encoder=False when constructing XGBClassifier object; and 2) Encode your labels (y) as integers starting with 0, i.e. 0, 1, 2, ..., [num_class - 1].\n",
      "  warnings.warn(label_encoder_deprecation_msg, UserWarning)\n"
     ]
    },
    {
     "data": {
      "image/png": "[encoded data removed]",
      "text/plain": [
       "<Figure size 432x288 with 1 Axes>"
      ]
     },
     "metadata": {
      "needs_background": "light"
     },
     "output_type": "display_data"
    }
   ],
   "source": [
    "X_train, X_test, y_train, y_test = train_test_split(class5, class5['group'], test_size=0.33, random_state=42)\n",
    "\n",
    "model = XGBClassifier(n_estimators=10, random_state=0xC0FFEE)\n",
    "\n",
    "model.fit(X_train[feature_list], y_train)\n",
    "class4_predict_group = model.predict(X_test[feature_list])\n",
    "\n",
    "print(np.sum(class4_predict_group == y_test) / len(y_test))\n",
    "plt.scatter(np.arange(len(y_test)), X_test.targets, c=class4_predict_group)\n",
    "plt.show()"
   ]
  },
  {
   "cell_type": "markdown",
   "id": "c97807f2",
   "metadata": {},
   "source": [
    "## Submission"
   ]
  },
  {
   "cell_type": "code",
   "execution_count": null,
   "id": "e900bf89",
   "metadata": {},
   "outputs": [],
   "source": []
  }
 ],
 "metadata": {
  "kernelspec": {
   "display_name": "Python 3",
   "language": "python",
   "name": "python3"
  },
  "language_info": {
   "codemirror_mode": {
    "name": "ipython",
    "version": 3
   },
   "file_extension": ".py",
   "mimetype": "text/x-python",
   "name": "python",
   "nbconvert_exporter": "python",
   "pygments_lexer": "ipython3",
   "version": "3.8.8"
  }
 },
 "nbformat": 4,
 "nbformat_minor": 5
}
